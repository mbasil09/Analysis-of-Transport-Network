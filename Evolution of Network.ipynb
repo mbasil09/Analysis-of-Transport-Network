{
 "cells": [
  {
   "cell_type": "code",
   "execution_count": null,
   "metadata": {},
   "outputs": [],
   "source": [
    "#imports\n",
    "import math\n",
    "import random\n",
    "import pandas as pd\n",
    "import numpy as np\n",
    "import os\n",
    "import networkx as nx\n",
    "import matplotlib.pyplot as plt\n",
    "import collections\n",
    "from operator import itemgetter\n",
    "import geopandas\n",
    "from matplotlib.colors import ListedColormap\n",
    "import sys\n",
    "import gc\n",
    "import pylab"
   ]
  },
  {
   "cell_type": "code",
   "execution_count": null,
   "metadata": {},
   "outputs": [],
   "source": [
    "# listing the Excels Files\n",
    "\n",
    "excel_list1 = os.listdir(\"Raw_Data\")\n",
    "excel_list = []\n",
    "for i in excel_list1:\n",
    "    if(i.endswith(\".csv\")):\n",
    "        excel_list.append(i)   \n",
    "excel_list.sort()"
   ]
  },
  {
   "cell_type": "code",
   "execution_count": null,
   "metadata": {},
   "outputs": [],
   "source": [
    "# Creating networks and stroing them\n",
    "coordinates = pd.read_csv(\"Raw_Data/coordinates/sorted_coordinates.csv\",header=0,index_col= 0)\n",
    "print(coordinates)\n",
    "\n",
    "max_weight = 0\n",
    "min_weight = 10000000000\n",
    "\n",
    "graphs = []\n",
    "passengers = []   # records number of total passengers(month wise)\n",
    "lbls = []\n",
    "for i in excel_list:\n",
    "    path = \"Raw_Data/\"+i\n",
    "    excel = pd.read_csv(path ,header=0, index_col=0, usecols = [0,1,2,3,4] ,names=[\"SNo\",\"city1\",\"city2\",\"to\",\"from\"] )\n",
    "    passengers.append(sum(excel[\"to\"]) + sum(excel[\"from\"]))\n",
    "    lbls.append(i[:-4])\n",
    "    G = nx.DiGraph()\n",
    "    cities = {}\n",
    "    for i in range(1,len(excel)+1):\n",
    "        cities[excel[\"city1\"][i]] = (coordinates[\"Longitude\"][excel[\"city1\"][i]],coordinates[\"Latitude\"][excel[\"city1\"][i]])\n",
    "        cities[excel[\"city2\"][i]] = (coordinates[\"Longitude\"][excel[\"city2\"][i]],coordinates[\"Latitude\"][excel[\"city2\"][i]])\n",
    "    for i in cities:\n",
    "        G.add_node(i, pos= cities[i])\n",
    "    \n",
    "    print(path)\n",
    "    for i in range(1,len(excel)+1):\n",
    "        weight1 = excel[\"to\"][i]\n",
    "        if(weight1 != 0):\n",
    "            G.add_edge(excel[\"city1\"][i],excel[\"city2\"][i],weight=weight1)\n",
    "        weight2 = excel[\"from\"][i]\n",
    "        if(weight2 != 0):\n",
    "            G.add_edge(excel[\"city2\"][i],excel[\"city1\"][i],weight=weight2)\n",
    "        \n",
    "        max_weight = max(max_weight, weight1, weight2)\n",
    "        min_weight = min(min_weight, weight1, weight2)\n",
    "    print(excel)\n",
    "    graphs.append(G)\n",
    "\n",
    "graphslen = len(graphs)\n",
    "#print(cities)"
   ]
  },
  {
   "cell_type": "code",
   "execution_count": null,
   "metadata": {},
   "outputs": [],
   "source": [
    "lbls1 = []\n",
    "month = {\"01\":\"Jan\", \"02\":\"Feb\", \"03\":\"March\", \"04\":\"April\", \"05\":\"May\", \"06\":\"June\", \"07\":\"July\", \"08\":\"Aug\", \n",
    "        \"09\":\"Sep\", \"10\":\"Oct\", \"11\":\"Nov\", \"12\":\"Dec\"}\n",
    "for e in lbls:\n",
    "    lbls1.append(month[e[2:]]+e[:2])"
   ]
  },
  {
   "cell_type": "code",
   "execution_count": null,
   "metadata": {},
   "outputs": [],
   "source": [
    "nnodes = []\n",
    "airpor = {} \n",
    "for i in range(len(graphs)):\n",
    "    temp = 0\n",
    "    for j in graphs[i].nodes():\n",
    "        if j not in airpor:\n",
    "            airpor[j]=  1\n",
    "            temp += 1\n",
    "    nnodes.append(temp)\n",
    "nnodes[0] = 0\n",
    "plt.scatter(lbls1, nnodes, color=\"black\", marker=\"o\")\n",
    "plt.xlabel(\"Month,Year (MMMYY)\")\n",
    "plt.xticks([i for i in range(graphslen)], labels = lbls1)\n",
    "plt.ylabel(\"Number of New Airports\")\n",
    "plt.title(\"Number of New Airports in India\")\n",
    "plt.grid(True)\n",
    "plt.ylim(-1,6)\n",
    "figure = plt.gcf()\n",
    "figure.set_size_inches(50, 10)\n",
    "plt.savefig('Output_Files/matplotlib/new/newnodes')\n",
    "plt.show()\n",
    "plt.clf()\n",
    "plt.close()"
   ]
  }
 ],
 "metadata": {
  "kernelspec": {
   "display_name": "Python 3",
   "language": "python",
   "name": "python3"
  },
  "language_info": {
   "codemirror_mode": {
    "name": "ipython",
    "version": 3
   },
   "file_extension": ".py",
   "mimetype": "text/x-python",
   "name": "python",
   "nbconvert_exporter": "python",
   "pygments_lexer": "ipython3",
   "version": "3.8.2"
  }
 },
 "nbformat": 4,
 "nbformat_minor": 4
}
