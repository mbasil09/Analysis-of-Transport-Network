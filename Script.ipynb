{
 "cells": [
  {
   "cell_type": "code",
   "execution_count": 1,
   "metadata": {},
   "outputs": [],
   "source": [
    "#imports\n",
    "import math\n",
    "import random\n",
    "import pandas as pd\n",
    "import numpy as np\n",
    "import os\n",
    "import networkx as nx\n",
    "import matplotlib.pyplot as plt"
   ]
  },
  {
   "cell_type": "markdown",
   "metadata": {},
   "source": [
    "## Data importing and preprocessing"
   ]
  },
  {
   "cell_type": "code",
   "execution_count": 2,
   "metadata": {},
   "outputs": [],
   "source": [
    "# listing the Excels Files\n",
    "\n",
    "excel_list1 = os.listdir(\"Raw_Data\")\n",
    "excel_list = []\n",
    "for i in excel_list1:\n",
    "    if(i.endswith(\".csv\")):\n",
    "        excel_list.append(i)   \n",
    "excel_list.sort()"
   ]
  },
  {
   "cell_type": "markdown",
   "metadata": {},
   "source": [
    "## Directed Weighted Network Creation"
   ]
  },
  {
   "cell_type": "code",
   "execution_count": 3,
   "metadata": {},
   "outputs": [
    {
     "name": "stdout",
     "output_type": "stream",
     "text": [
      "               Latitude  Longitude\n",
      "Cities                            \n",
      "ADAMPUR          31.430     75.750\n",
      "AGARTALA         23.887     91.240\n",
      "AGATTI ISLAND    10.824     72.176\n",
      "AGRA             27.156     77.961\n",
      "AHMEDABAD        23.077     72.635\n",
      "...                 ...        ...\n",
      "KOLHAPUR         16.660     74.280\n",
      "MYSORE           12.230     76.650\n",
      "LUDHIANA         30.850     75.950\n",
      "MUNDRA           22.830     69.760\n",
      "NANDED           19.180     77.330\n",
      "\n",
      "[119 rows x 2 columns]\n",
      "Raw_Data/1505.csv\n",
      "Raw_Data/1506.csv\n",
      "Raw_Data/1507.csv\n",
      "Raw_Data/1508.csv\n",
      "Raw_Data/1509.csv\n",
      "Raw_Data/1510.csv\n",
      "Raw_Data/1511.csv\n",
      "Raw_Data/1512.csv\n",
      "Raw_Data/1601.csv\n",
      "Raw_Data/1602.csv\n",
      "Raw_Data/1603.csv\n",
      "Raw_Data/1604.csv\n",
      "Raw_Data/1605.csv\n",
      "Raw_Data/1606.csv\n",
      "Raw_Data/1607.csv\n",
      "Raw_Data/1608.csv\n",
      "Raw_Data/1609.csv\n",
      "Raw_Data/1610.csv\n",
      "Raw_Data/1611.csv\n",
      "Raw_Data/1612.csv\n",
      "Raw_Data/1701.csv\n",
      "Raw_Data/1702.csv\n",
      "Raw_Data/1703.csv\n",
      "Raw_Data/1704.csv\n",
      "Raw_Data/1705.csv\n",
      "Raw_Data/1706.csv\n",
      "Raw_Data/1707.csv\n",
      "Raw_Data/1708.csv\n",
      "Raw_Data/1709.csv\n",
      "Raw_Data/1710.csv\n",
      "Raw_Data/1711.csv\n",
      "Raw_Data/1712.csv\n",
      "Raw_Data/1801.csv\n",
      "Raw_Data/1802.csv\n",
      "Raw_Data/1803.csv\n",
      "Raw_Data/1804.csv\n",
      "Raw_Data/1805.csv\n",
      "Raw_Data/1806.csv\n",
      "Raw_Data/1807.csv\n",
      "Raw_Data/1808.csv\n",
      "Raw_Data/1809.csv\n",
      "Raw_Data/1810.csv\n",
      "Raw_Data/1811.csv\n",
      "Raw_Data/1812.csv\n",
      "Raw_Data/1901.csv\n",
      "Raw_Data/1902.csv\n",
      "Raw_Data/1903.csv\n",
      "Raw_Data/1904.csv\n",
      "Raw_Data/1905.csv\n",
      "Raw_Data/1906.csv\n",
      "Raw_Data/1907.csv\n",
      "Raw_Data/1908.csv\n",
      "Raw_Data/1909.csv\n",
      "Raw_Data/1910.csv\n",
      "Raw_Data/1911.csv\n",
      "Raw_Data/1912.csv\n",
      "Raw_Data/2001.csv\n",
      "Raw_Data/2002.csv\n",
      "Raw_Data/2003.csv\n",
      "Raw_Data/2004.csv\n",
      "Raw_Data/2005.csv\n",
      "Raw_Data/2006.csv\n",
      "Raw_Data/2007.csv\n",
      "Raw_Data/2008.csv\n",
      "Raw_Data/2009.csv\n",
      "Raw_Data/2010.csv\n"
     ]
    }
   ],
   "source": [
    "# Creating networks and stroing them\n",
    "coordinates = pd.read_csv(\"Raw_Data/coordinates/sorted_coordinates.csv\",header=0,index_col= 0)\n",
    "print(coordinates)\n",
    "\n",
    "graphs = []\n",
    "passengers = []   # records number of total passengers(month wise)\n",
    "lbls = []\n",
    "for i in excel_list:\n",
    "    path = \"Raw_Data/\"+i\n",
    "    excel = pd.read_csv(path ,header=0, index_col=0, usecols = [0,1,2,3,4] ,names=[\"SNo\",\"city1\",\"city2\",\"to\",\"from\"] )\n",
    "    passengers.append(sum(excel[\"to\"]) + sum(excel[\"from\"]))\n",
    "    lbls.append(i[:-4])\n",
    "    G = nx.DiGraph()\n",
    "    cities = {}\n",
    "    for i in range(1,len(excel)+1):\n",
    "        cities[excel[\"city1\"][i]] = (coordinates[\"Longitude\"][excel[\"city1\"][i]],coordinates[\"Latitude\"][excel[\"city1\"][i]])\n",
    "        cities[excel[\"city2\"][i]] = (coordinates[\"Longitude\"][excel[\"city2\"][i]],coordinates[\"Latitude\"][excel[\"city2\"][i]])\n",
    "    for i in cities:\n",
    "        G.add_node(i, pos= cities[i])\n",
    "    \n",
    "    print(path)\n",
    "    for i in range(1,len(excel)+1):\n",
    "        weight1 = excel[\"to\"][i]\n",
    "        if(weight1 != 0):\n",
    "            G.add_edge(excel[\"city1\"][i],excel[\"city2\"][i],weight=weight1)\n",
    "        weight2 = excel[\"from\"][i]\n",
    "        if(weight2 != 0):\n",
    "            G.add_edge(excel[\"city2\"][i],excel[\"city1\"][i],weight=weight2)\n",
    "    graphs.append(G)\n",
    "nx.write_gml(graphs[-7], \"test.gml\", stringizer = str)\n",
    "#print(cities)"
   ]
  },
  {
   "cell_type": "code",
   "execution_count": 4,
   "metadata": {
    "scrolled": true
   },
   "outputs": [
    {
     "name": "stdout",
     "output_type": "stream",
     "text": [
      "0\n",
      "1\n",
      "2\n",
      "3\n",
      "4\n",
      "5\n",
      "6\n",
      "7\n",
      "8\n",
      "9\n",
      "10\n",
      "11\n",
      "12\n",
      "13\n",
      "14\n",
      "15\n",
      "16\n",
      "17\n",
      "18\n",
      "19\n",
      "20\n",
      "21\n",
      "22\n",
      "23\n",
      "24\n",
      "25\n",
      "26\n",
      "27\n",
      "28\n",
      "29\n",
      "30\n",
      "31\n",
      "32\n",
      "33\n",
      "34\n",
      "35\n",
      "36\n",
      "37\n",
      "38\n",
      "39\n",
      "40\n",
      "41\n",
      "42\n",
      "43\n",
      "44\n",
      "45\n",
      "46\n",
      "47\n",
      "48\n",
      "49\n",
      "50\n",
      "51\n",
      "52\n",
      "53\n",
      "54\n",
      "55\n",
      "56\n",
      "57\n",
      "58\n",
      "59\n",
      "60\n",
      "61\n",
      "62\n",
      "63\n",
      "64\n",
      "65\n"
     ]
    },
    {
     "data": {
      "text/plain": [
       "<Figure size 2160x2160 with 0 Axes>"
      ]
     },
     "metadata": {},
     "output_type": "display_data"
    }
   ],
   "source": [
    "for i in range(len(lbls)):\n",
    "    print(i)\n",
    "    nx.draw_networkx(graphs[i],nx.get_node_attributes(graphs[i],'pos'))\n",
    "#     nx.write_gml(graphs[i], \"test.gml\", stringizer = str)\n",
    "    figure = plt.gcf()\n",
    "    figure.set_size_inches(30, 30)\n",
    "    plt.title(\"Airport Network Of India \"+ lbls[i])\n",
    "    plt.savefig('Output_Files/matplotlib/map'+lbls[i])\n",
    "    plt.clf()"
   ]
  },
  {
   "cell_type": "markdown",
   "metadata": {},
   "source": [
    "## Network Visualization"
   ]
  },
  {
   "cell_type": "code",
   "execution_count": null,
   "metadata": {},
   "outputs": [],
   "source": [
    "nodes = []\n",
    "for i in range(len(graphs)):\n",
    "    nodes.append(len(graphs[i].nodes()))\n",
    "\n",
    "plt.plot(nodes, color=\"red\", marker=\"o\")\n",
    "plt.xlabel(\"Year/Month (YYMM)\")\n",
    "plt.xticks([i for i in range(66)], labels = lbls)\n",
    "plt.ylabel(\"Number of Active Airports\")\n",
    "plt.title(\"Number of Active Airports in India\")\n",
    "plt.grid(True)\n",
    "\n",
    "figure = plt.gcf()\n",
    "figure.set_size_inches(50, 8)\n",
    "plt.savefig('Output_Files/matplotlib/nodes')\n",
    "plt.show()"
   ]
  },
  {
   "cell_type": "code",
   "execution_count": null,
   "metadata": {},
   "outputs": [],
   "source": [
    "nnodes = []\n",
    "airpor = {} \n",
    "for i in range(len(graphs)):\n",
    "    temp = 0\n",
    "    for j in graphs[i].nodes():\n",
    "        if j not in airpor:\n",
    "            airpor[j]=  1\n",
    "            temp += 1\n",
    "    nnodes.append(temp)\n",
    "nnodes[0] = 0\n",
    "plt.plot(nnodes, color=\"red\", marker=\"o\")\n",
    "plt.xlabel(\"Year/Month (YYMM)\")\n",
    "plt.xticks([i for i in range(66)], labels = lbls)\n",
    "plt.ylabel(\"Number of New Airports\")\n",
    "plt.title(\"Number of New Airports in India\")\n",
    "plt.grid(True)\n",
    "plt.ylim(-1,6)\n",
    "figure = plt.gcf()\n",
    "figure.set_size_inches(50, 10)\n",
    "plt.savefig('Output_Files/matplotlib/newnodes')\n",
    "plt.show()"
   ]
  },
  {
   "cell_type": "code",
   "execution_count": null,
   "metadata": {},
   "outputs": [],
   "source": [
    "edges = []\n",
    "for i in range(len(graphs)):\n",
    "    edges.append(len(graphs[i].edges()))\n",
    "plt.plot(edges, color=\"red\", marker=\"o\")\n",
    "plt.xlabel(\"Year/Month (YYMM)\")\n",
    "plt.xticks([i for i in range(66)], labels = lbls)\n",
    "plt.ylabel(\"Number of Active Airport Connections\")\n",
    "plt.title(\"Number of Active Airport Connections in India\")\n",
    "plt.grid(True)\n",
    "figure = plt.gcf()\n",
    "figure.set_size_inches(50, 8)\n",
    "plt.savefig('Output_Files/matplotlib/edges')\n",
    "plt.show()"
   ]
  },
  {
   "cell_type": "code",
   "execution_count": null,
   "metadata": {},
   "outputs": [],
   "source": [
    "plt.plot(passengers, color=\"red\",  marker=\"o\")\n",
    "plt.xlabel(\"Year/Month (YYMM)\")\n",
    "plt.xticks([i for i in range(66)],labels = lbls)\n",
    "plt.ylabel(\"Number of Passengers\")\n",
    "plt.title(\"Number of Passengers Travelling in India\")\n",
    "plt.grid(True)\n",
    "figure = plt.gcf()\n",
    "figure.set_size_inches(50, 8)\n",
    "plt.savefig('Output_Files/matplotlib/passengers')\n",
    "plt.show()"
   ]
  },
  {
   "cell_type": "code",
   "execution_count": null,
   "metadata": {},
   "outputs": [],
   "source": [
    "for i in sorted(airpor.keys()):\n",
    "    print(i)"
   ]
  },
  {
   "cell_type": "markdown",
   "metadata": {},
   "source": [
    "excel = pd.read_csv(\"Raw_Data/coordinates/sorted_coordinates.csv\",header=0)\n",
    "tempcity = list(excel[\"Cities\"])\n",
    "#print(tempcity)\n",
    "for i in sorted(airpor.keys()):\n",
    "    if i not in tempcity:\n",
    "        print(i)"
   ]
  },
  {
   "cell_type": "code",
   "execution_count": null,
   "metadata": {},
   "outputs": [],
   "source": []
  },
  {
   "cell_type": "code",
   "execution_count": null,
   "metadata": {},
   "outputs": [],
   "source": []
  },
  {
   "cell_type": "code",
   "execution_count": null,
   "metadata": {},
   "outputs": [],
   "source": []
  }
 ],
 "metadata": {
  "kernelspec": {
   "display_name": "Python 3",
   "language": "python",
   "name": "python3"
  },
  "language_info": {
   "codemirror_mode": {
    "name": "ipython",
    "version": 3
   },
   "file_extension": ".py",
   "mimetype": "text/x-python",
   "name": "python",
   "nbconvert_exporter": "python",
   "pygments_lexer": "ipython3",
   "version": "3.8.5"
  }
 },
 "nbformat": 4,
 "nbformat_minor": 4
}
