{
 "cells": [
  {
   "cell_type": "code",
   "execution_count": 1,
   "metadata": {},
   "outputs": [],
   "source": [
    "#imports\n",
    "import math\n",
    "import random\n",
    "import pandas as pd\n",
    "import numpy as np\n",
    "import os\n",
    "import networkx as nx\n",
    "import matplotlib.pyplot as plt\n",
    "import collections\n",
    "from operator import itemgetter\n",
    "import geopandas\n",
    "from matplotlib.colors import ListedColormap"
   ]
  },
  {
   "cell_type": "markdown",
   "metadata": {},
   "source": [
    "## Data importing and preprocessing"
   ]
  },
  {
   "cell_type": "code",
   "execution_count": 2,
   "metadata": {},
   "outputs": [],
   "source": [
    "# listing the Excels Files\n",
    "\n",
    "excel_list1 = os.listdir(\"Raw_Data\")\n",
    "excel_list = []\n",
    "for i in excel_list1:\n",
    "    if(i.endswith(\".csv\")):\n",
    "        excel_list.append(i)   \n",
    "excel_list.sort()"
   ]
  },
  {
   "cell_type": "markdown",
   "metadata": {},
   "source": [
    "## Directed Weighted Network Creation"
   ]
  },
  {
   "cell_type": "code",
   "execution_count": 3,
   "metadata": {},
   "outputs": [
    {
     "name": "stdout",
     "output_type": "stream",
     "text": [
      "               Latitude  Longitude\n",
      "Cities                            \n",
      "ADAMPUR          31.430     75.750\n",
      "AGARTALA         23.887     91.240\n",
      "AGATTI ISLAND    10.824     72.176\n",
      "AGRA             27.156     77.961\n",
      "AHMEDABAD        23.077     72.635\n",
      "...                 ...        ...\n",
      "VADODARA         22.336     73.226\n",
      "VARANASI         25.452     82.859\n",
      "VIDYANAGAR       15.170     76.620\n",
      "VIJAYAWADA       16.530     80.797\n",
      "VISAKHAPATNAM    17.721     83.224\n",
      "\n",
      "[119 rows x 2 columns]\n",
      "Raw_Data/1505.csv\n",
      "Raw_Data/1506.csv\n",
      "Raw_Data/1507.csv\n",
      "Raw_Data/1508.csv\n",
      "Raw_Data/1509.csv\n",
      "Raw_Data/1510.csv\n",
      "Raw_Data/1511.csv\n",
      "Raw_Data/1512.csv\n",
      "Raw_Data/1601.csv\n",
      "Raw_Data/1602.csv\n",
      "Raw_Data/1603.csv\n",
      "Raw_Data/1604.csv\n",
      "Raw_Data/1605.csv\n",
      "Raw_Data/1606.csv\n",
      "Raw_Data/1607.csv\n",
      "Raw_Data/1608.csv\n",
      "Raw_Data/1609.csv\n",
      "Raw_Data/1610.csv\n",
      "Raw_Data/1611.csv\n",
      "Raw_Data/1612.csv\n",
      "Raw_Data/1701.csv\n",
      "Raw_Data/1702.csv\n",
      "Raw_Data/1703.csv\n",
      "Raw_Data/1704.csv\n",
      "Raw_Data/1705.csv\n",
      "Raw_Data/1706.csv\n",
      "Raw_Data/1707.csv\n",
      "Raw_Data/1708.csv\n",
      "Raw_Data/1709.csv\n",
      "Raw_Data/1710.csv\n",
      "Raw_Data/1711.csv\n",
      "Raw_Data/1712.csv\n",
      "Raw_Data/1801.csv\n",
      "Raw_Data/1802.csv\n",
      "Raw_Data/1803.csv\n",
      "Raw_Data/1804.csv\n",
      "Raw_Data/1805.csv\n",
      "Raw_Data/1806.csv\n",
      "Raw_Data/1807.csv\n",
      "Raw_Data/1808.csv\n",
      "Raw_Data/1809.csv\n",
      "Raw_Data/1810.csv\n",
      "Raw_Data/1811.csv\n",
      "Raw_Data/1812.csv\n",
      "Raw_Data/1901.csv\n",
      "Raw_Data/1902.csv\n",
      "Raw_Data/1903.csv\n",
      "Raw_Data/1904.csv\n",
      "Raw_Data/1905.csv\n",
      "Raw_Data/1906.csv\n",
      "Raw_Data/1907.csv\n",
      "Raw_Data/1908.csv\n",
      "Raw_Data/1909.csv\n",
      "Raw_Data/1910.csv\n",
      "Raw_Data/1911.csv\n",
      "Raw_Data/1912.csv\n",
      "Raw_Data/2001.csv\n",
      "Raw_Data/2002.csv\n",
      "Raw_Data/2003.csv\n",
      "Raw_Data/2004.csv\n",
      "Raw_Data/2005.csv\n",
      "Raw_Data/2006.csv\n",
      "Raw_Data/2007.csv\n",
      "Raw_Data/2008.csv\n",
      "Raw_Data/2009.csv\n",
      "Raw_Data/2010.csv\n"
     ]
    }
   ],
   "source": [
    "# Creating networks and stroing them\n",
    "coordinates = pd.read_csv(\"Raw_Data/coordinates/sorted_coordinates.csv\",header=0,index_col= 0)\n",
    "print(coordinates)\n",
    "\n",
    "max_weight = 0\n",
    "min_weight = 10000000000\n",
    "\n",
    "graphs = []\n",
    "passengers = []   # records number of total passengers(month wise)\n",
    "lbls = []\n",
    "for i in excel_list:\n",
    "    path = \"Raw_Data/\"+i\n",
    "    excel = pd.read_csv(path ,header=0, index_col=0, usecols = [0,1,2,3,4] ,names=[\"SNo\",\"city1\",\"city2\",\"to\",\"from\"] )\n",
    "    passengers.append(sum(excel[\"to\"]) + sum(excel[\"from\"]))\n",
    "    lbls.append(i[:-4])\n",
    "    G = nx.DiGraph()\n",
    "    cities = {}\n",
    "    for i in range(1,len(excel)+1):\n",
    "        cities[excel[\"city1\"][i]] = (coordinates[\"Longitude\"][excel[\"city1\"][i]],coordinates[\"Latitude\"][excel[\"city1\"][i]])\n",
    "        cities[excel[\"city2\"][i]] = (coordinates[\"Longitude\"][excel[\"city2\"][i]],coordinates[\"Latitude\"][excel[\"city2\"][i]])\n",
    "    for i in cities:\n",
    "        G.add_node(i, pos= cities[i])\n",
    "    \n",
    "    print(path)\n",
    "    for i in range(1,len(excel)+1):\n",
    "        weight1 = excel[\"to\"][i]\n",
    "        if(weight1 != 0):\n",
    "            G.add_edge(excel[\"city1\"][i],excel[\"city2\"][i],weight=weight1)\n",
    "        weight2 = excel[\"from\"][i]\n",
    "        if(weight2 != 0):\n",
    "            G.add_edge(excel[\"city2\"][i],excel[\"city1\"][i],weight=weight2)\n",
    "        \n",
    "        max_weight = max(max_weight, weight1, weight2)\n",
    "        min_weight = min(min_weight, weight1, weight2)\n",
    "    graphs.append(G)\n",
    "nx.write_gml(graphs[-7], \"test.gml\", stringizer = str)\n",
    "#print(cities)"
   ]
  },
  {
   "cell_type": "code",
   "execution_count": 4,
   "metadata": {},
   "outputs": [],
   "source": [
    "lbls1 = []\n",
    "month = {\"01\":\"Jan\", \"02\":\"Feb\", \"03\":\"March\", \"04\":\"April\", \"05\":\"May\", \"06\":\"June\", \"07\":\"July\", \"08\":\"Aug\", \n",
    "        \"09\":\"Sep\", \"10\":\"Oct\", \"11\":\"Nov\", \"12\":\"Dec\"}\n",
    "for e in lbls:\n",
    "    lbls1.append(month[e[2:]]+e[:2])"
   ]
  },
  {
   "cell_type": "code",
   "execution_count": 5,
   "metadata": {},
   "outputs": [],
   "source": [
    "# coordinates has city, lat, long -> <class 'pandas.core.frame.DataFrame'>\n",
    "\n",
    "df = geopandas.read_file(\"shapefile/india_states.shp\")\n"
   ]
  },
  {
   "cell_type": "code",
   "execution_count": 6,
   "metadata": {},
   "outputs": [
    {
     "name": "stdout",
     "output_type": "stream",
     "text": [
      "               ST_NM  ST_ID  ID  \\\n",
      "0    Jammu & Kashmir  IN-JK  JK   \n",
      "1            Gujarat  IN-GJ  GJ   \n",
      "2            Gujarat  IN-GJ  GJ   \n",
      "3            Gujarat  IN-GJ  GJ   \n",
      "4            Gujarat  IN-GJ  GJ   \n",
      "..               ...    ...  ..   \n",
      "266           Odisha  IN-OR  OR   \n",
      "267        Jharkhand  IN-JH  JH   \n",
      "268     NCT of Delhi  IN-DL  DL   \n",
      "269        Telangana  IN-TG  TG   \n",
      "270       Puducherry  IN-PY  PY   \n",
      "\n",
      "                                              geometry  \n",
      "0    MULTIPOLYGON (((75.88864 32.57603, 75.84635 32...  \n",
      "1    POLYGON ((72.67653 21.15570, 72.70319 21.14625...  \n",
      "2    POLYGON ((72.35319 21.61347, 72.36291 21.60069...  \n",
      "3    POLYGON ((72.72264 21.66597, 72.74597 21.65875...  \n",
      "4    POLYGON ((72.27431 21.74958, 72.28264 21.73458...  \n",
      "..                                                 ...  \n",
      "266  POLYGON ((87.49020 21.60265, 87.47440 21.59988...  \n",
      "267  POLYGON ((83.50607 24.52589, 83.55031 24.52505...  \n",
      "268  POLYGON ((77.34765 28.50346, 77.31673 28.48519...  \n",
      "269  POLYGON ((77.55350 18.29319, 77.57380 18.31002...  \n",
      "270  POLYGON ((75.55349 11.71810, 75.54061 11.71409...  \n",
      "\n",
      "[271 rows x 4 columns]\n"
     ]
    }
   ],
   "source": [
    "print(df)"
   ]
  },
  {
   "cell_type": "code",
   "execution_count": null,
   "metadata": {},
   "outputs": [],
   "source": []
  },
  {
   "cell_type": "code",
   "execution_count": 7,
   "metadata": {},
   "outputs": [
    {
     "name": "stdout",
     "output_type": "stream",
     "text": [
      "0\n",
      "1\n",
      "2\n",
      "3\n",
      "4\n",
      "5\n",
      "6\n",
      "7\n",
      "8\n",
      "9\n",
      "10\n",
      "11\n",
      "12\n",
      "13\n",
      "14\n",
      "15\n",
      "16\n",
      "17\n",
      "18\n",
      "19\n",
      "20\n"
     ]
    },
    {
     "name": "stderr",
     "output_type": "stream",
     "text": [
      "c:\\users\\juhi pandey\\appdata\\local\\programs\\python\\python37-32\\lib\\site-packages\\geopandas\\plotting.py:358: RuntimeWarning: More than 20 figures have been opened. Figures created through the pyplot interface (`matplotlib.pyplot.figure`) are retained until explicitly closed and may consume too much memory. (To control this warning, see the rcParam `figure.max_open_warning`).\n",
      "  fig, ax = plt.subplots(figsize=figsize)\n"
     ]
    },
    {
     "name": "stdout",
     "output_type": "stream",
     "text": [
      "21\n",
      "22\n",
      "23\n",
      "24\n",
      "25\n",
      "26\n",
      "27\n",
      "28\n",
      "29\n",
      "30\n",
      "31\n",
      "32\n",
      "33\n",
      "34\n",
      "35\n",
      "36\n",
      "37\n",
      "38\n",
      "39\n",
      "40\n",
      "41\n",
      "42\n",
      "43\n",
      "44\n",
      "45\n",
      "46\n",
      "47\n",
      "48\n",
      "49\n",
      "50\n",
      "51\n",
      "52\n",
      "53\n",
      "54\n",
      "55\n",
      "56\n",
      "57\n",
      "58\n",
      "59\n",
      "60\n",
      "61\n",
      "62\n",
      "63\n",
      "64\n",
      "65\n"
     ]
    },
    {
     "data": {
      "text/plain": [
       "<Figure size 2160x2160 with 0 Axes>"
      ]
     },
     "metadata": {},
     "output_type": "display_data"
    },
    {
     "data": {
      "text/plain": [
       "<Figure size 2160x2160 with 0 Axes>"
      ]
     },
     "metadata": {},
     "output_type": "display_data"
    },
    {
     "data": {
      "text/plain": [
       "<Figure size 2160x2160 with 0 Axes>"
      ]
     },
     "metadata": {},
     "output_type": "display_data"
    },
    {
     "data": {
      "text/plain": [
       "<Figure size 2160x2160 with 0 Axes>"
      ]
     },
     "metadata": {},
     "output_type": "display_data"
    },
    {
     "data": {
      "text/plain": [
       "<Figure size 2160x2160 with 0 Axes>"
      ]
     },
     "metadata": {},
     "output_type": "display_data"
    },
    {
     "data": {
      "text/plain": [
       "<Figure size 2160x2160 with 0 Axes>"
      ]
     },
     "metadata": {},
     "output_type": "display_data"
    },
    {
     "data": {
      "text/plain": [
       "<Figure size 2160x2160 with 0 Axes>"
      ]
     },
     "metadata": {},
     "output_type": "display_data"
    },
    {
     "data": {
      "text/plain": [
       "<Figure size 2160x2160 with 0 Axes>"
      ]
     },
     "metadata": {},
     "output_type": "display_data"
    },
    {
     "data": {
      "text/plain": [
       "<Figure size 2160x2160 with 0 Axes>"
      ]
     },
     "metadata": {},
     "output_type": "display_data"
    },
    {
     "data": {
      "text/plain": [
       "<Figure size 2160x2160 with 0 Axes>"
      ]
     },
     "metadata": {},
     "output_type": "display_data"
    },
    {
     "data": {
      "text/plain": [
       "<Figure size 2160x2160 with 0 Axes>"
      ]
     },
     "metadata": {},
     "output_type": "display_data"
    },
    {
     "data": {
      "text/plain": [
       "<Figure size 2160x2160 with 0 Axes>"
      ]
     },
     "metadata": {},
     "output_type": "display_data"
    },
    {
     "data": {
      "text/plain": [
       "<Figure size 2160x2160 with 0 Axes>"
      ]
     },
     "metadata": {},
     "output_type": "display_data"
    },
    {
     "data": {
      "text/plain": [
       "<Figure size 2160x2160 with 0 Axes>"
      ]
     },
     "metadata": {},
     "output_type": "display_data"
    },
    {
     "data": {
      "text/plain": [
       "<Figure size 2160x2160 with 0 Axes>"
      ]
     },
     "metadata": {},
     "output_type": "display_data"
    },
    {
     "data": {
      "text/plain": [
       "<Figure size 2160x2160 with 0 Axes>"
      ]
     },
     "metadata": {},
     "output_type": "display_data"
    },
    {
     "data": {
      "text/plain": [
       "<Figure size 2160x2160 with 0 Axes>"
      ]
     },
     "metadata": {},
     "output_type": "display_data"
    },
    {
     "data": {
      "text/plain": [
       "<Figure size 2160x2160 with 0 Axes>"
      ]
     },
     "metadata": {},
     "output_type": "display_data"
    },
    {
     "data": {
      "text/plain": [
       "<Figure size 2160x2160 with 0 Axes>"
      ]
     },
     "metadata": {},
     "output_type": "display_data"
    },
    {
     "data": {
      "text/plain": [
       "<Figure size 2160x2160 with 0 Axes>"
      ]
     },
     "metadata": {},
     "output_type": "display_data"
    },
    {
     "data": {
      "text/plain": [
       "<Figure size 2160x2160 with 0 Axes>"
      ]
     },
     "metadata": {},
     "output_type": "display_data"
    },
    {
     "data": {
      "text/plain": [
       "<Figure size 2160x2160 with 0 Axes>"
      ]
     },
     "metadata": {},
     "output_type": "display_data"
    },
    {
     "data": {
      "text/plain": [
       "<Figure size 2160x2160 with 0 Axes>"
      ]
     },
     "metadata": {},
     "output_type": "display_data"
    },
    {
     "data": {
      "text/plain": [
       "<Figure size 2160x2160 with 0 Axes>"
      ]
     },
     "metadata": {},
     "output_type": "display_data"
    },
    {
     "data": {
      "text/plain": [
       "<Figure size 2160x2160 with 0 Axes>"
      ]
     },
     "metadata": {},
     "output_type": "display_data"
    },
    {
     "data": {
      "text/plain": [
       "<Figure size 2160x2160 with 0 Axes>"
      ]
     },
     "metadata": {},
     "output_type": "display_data"
    },
    {
     "data": {
      "text/plain": [
       "<Figure size 2160x2160 with 0 Axes>"
      ]
     },
     "metadata": {},
     "output_type": "display_data"
    },
    {
     "data": {
      "text/plain": [
       "<Figure size 2160x2160 with 0 Axes>"
      ]
     },
     "metadata": {},
     "output_type": "display_data"
    },
    {
     "data": {
      "text/plain": [
       "<Figure size 2160x2160 with 0 Axes>"
      ]
     },
     "metadata": {},
     "output_type": "display_data"
    },
    {
     "data": {
      "text/plain": [
       "<Figure size 2160x2160 with 0 Axes>"
      ]
     },
     "metadata": {},
     "output_type": "display_data"
    },
    {
     "data": {
      "text/plain": [
       "<Figure size 2160x2160 with 0 Axes>"
      ]
     },
     "metadata": {},
     "output_type": "display_data"
    },
    {
     "data": {
      "text/plain": [
       "<Figure size 2160x2160 with 0 Axes>"
      ]
     },
     "metadata": {},
     "output_type": "display_data"
    },
    {
     "data": {
      "text/plain": [
       "<Figure size 2160x2160 with 0 Axes>"
      ]
     },
     "metadata": {},
     "output_type": "display_data"
    },
    {
     "data": {
      "text/plain": [
       "<Figure size 2160x2160 with 0 Axes>"
      ]
     },
     "metadata": {},
     "output_type": "display_data"
    },
    {
     "data": {
      "text/plain": [
       "<Figure size 2160x2160 with 0 Axes>"
      ]
     },
     "metadata": {},
     "output_type": "display_data"
    },
    {
     "data": {
      "text/plain": [
       "<Figure size 2160x2160 with 0 Axes>"
      ]
     },
     "metadata": {},
     "output_type": "display_data"
    },
    {
     "data": {
      "text/plain": [
       "<Figure size 2160x2160 with 0 Axes>"
      ]
     },
     "metadata": {},
     "output_type": "display_data"
    },
    {
     "data": {
      "text/plain": [
       "<Figure size 2160x2160 with 0 Axes>"
      ]
     },
     "metadata": {},
     "output_type": "display_data"
    },
    {
     "data": {
      "text/plain": [
       "<Figure size 2160x2160 with 0 Axes>"
      ]
     },
     "metadata": {},
     "output_type": "display_data"
    },
    {
     "data": {
      "text/plain": [
       "<Figure size 2160x2160 with 0 Axes>"
      ]
     },
     "metadata": {},
     "output_type": "display_data"
    },
    {
     "data": {
      "text/plain": [
       "<Figure size 2160x2160 with 0 Axes>"
      ]
     },
     "metadata": {},
     "output_type": "display_data"
    },
    {
     "data": {
      "text/plain": [
       "<Figure size 2160x2160 with 0 Axes>"
      ]
     },
     "metadata": {},
     "output_type": "display_data"
    },
    {
     "data": {
      "text/plain": [
       "<Figure size 2160x2160 with 0 Axes>"
      ]
     },
     "metadata": {},
     "output_type": "display_data"
    },
    {
     "data": {
      "text/plain": [
       "<Figure size 2160x2160 with 0 Axes>"
      ]
     },
     "metadata": {},
     "output_type": "display_data"
    },
    {
     "data": {
      "text/plain": [
       "<Figure size 2160x2160 with 0 Axes>"
      ]
     },
     "metadata": {},
     "output_type": "display_data"
    },
    {
     "data": {
      "text/plain": [
       "<Figure size 2160x2160 with 0 Axes>"
      ]
     },
     "metadata": {},
     "output_type": "display_data"
    },
    {
     "data": {
      "text/plain": [
       "<Figure size 2160x2160 with 0 Axes>"
      ]
     },
     "metadata": {},
     "output_type": "display_data"
    },
    {
     "data": {
      "text/plain": [
       "<Figure size 2160x2160 with 0 Axes>"
      ]
     },
     "metadata": {},
     "output_type": "display_data"
    },
    {
     "data": {
      "text/plain": [
       "<Figure size 2160x2160 with 0 Axes>"
      ]
     },
     "metadata": {},
     "output_type": "display_data"
    },
    {
     "data": {
      "text/plain": [
       "<Figure size 2160x2160 with 0 Axes>"
      ]
     },
     "metadata": {},
     "output_type": "display_data"
    },
    {
     "data": {
      "text/plain": [
       "<Figure size 2160x2160 with 0 Axes>"
      ]
     },
     "metadata": {},
     "output_type": "display_data"
    },
    {
     "data": {
      "text/plain": [
       "<Figure size 2160x2160 with 0 Axes>"
      ]
     },
     "metadata": {},
     "output_type": "display_data"
    },
    {
     "data": {
      "text/plain": [
       "<Figure size 2160x2160 with 0 Axes>"
      ]
     },
     "metadata": {},
     "output_type": "display_data"
    },
    {
     "data": {
      "text/plain": [
       "<Figure size 2160x2160 with 0 Axes>"
      ]
     },
     "metadata": {},
     "output_type": "display_data"
    },
    {
     "data": {
      "text/plain": [
       "<Figure size 2160x2160 with 0 Axes>"
      ]
     },
     "metadata": {},
     "output_type": "display_data"
    },
    {
     "data": {
      "text/plain": [
       "<Figure size 2160x2160 with 0 Axes>"
      ]
     },
     "metadata": {},
     "output_type": "display_data"
    },
    {
     "data": {
      "text/plain": [
       "<Figure size 2160x2160 with 0 Axes>"
      ]
     },
     "metadata": {},
     "output_type": "display_data"
    },
    {
     "data": {
      "text/plain": [
       "<Figure size 2160x2160 with 0 Axes>"
      ]
     },
     "metadata": {},
     "output_type": "display_data"
    },
    {
     "data": {
      "text/plain": [
       "<Figure size 2160x2160 with 0 Axes>"
      ]
     },
     "metadata": {},
     "output_type": "display_data"
    },
    {
     "data": {
      "text/plain": [
       "<Figure size 2160x2160 with 0 Axes>"
      ]
     },
     "metadata": {},
     "output_type": "display_data"
    },
    {
     "data": {
      "text/plain": [
       "<Figure size 2160x2160 with 0 Axes>"
      ]
     },
     "metadata": {},
     "output_type": "display_data"
    },
    {
     "data": {
      "text/plain": [
       "<Figure size 2160x2160 with 0 Axes>"
      ]
     },
     "metadata": {},
     "output_type": "display_data"
    },
    {
     "data": {
      "text/plain": [
       "<Figure size 2160x2160 with 0 Axes>"
      ]
     },
     "metadata": {},
     "output_type": "display_data"
    },
    {
     "data": {
      "text/plain": [
       "<Figure size 2160x2160 with 0 Axes>"
      ]
     },
     "metadata": {},
     "output_type": "display_data"
    },
    {
     "data": {
      "text/plain": [
       "<Figure size 2160x2160 with 0 Axes>"
      ]
     },
     "metadata": {},
     "output_type": "display_data"
    },
    {
     "data": {
      "text/plain": [
       "<Figure size 2160x2160 with 0 Axes>"
      ]
     },
     "metadata": {},
     "output_type": "display_data"
    }
   ],
   "source": [
    "colors = ['#fafa6e', '#e1f470','#c9ee73', '#b2e777', '#9cdf7c', '#86d780', '#72cf85', '#5ec688', '#4abd8c', '#37b38e',\n",
    "         '#23aa8f', '#0ba08f', '#00968e', '#008c8b', '#008288', '#007882', '#106e7c', '#1b6474', '#225b6c', '#275162',\n",
    "         '#2a4858']\n",
    "\n",
    "\n",
    "for i in range(len(lbls)):\n",
    "    print(i)\n",
    "    df.boundary.plot()\n",
    "\n",
    "    cmap = ListedColormap(['#fafa6e', '#e1f470','#c9ee73', '#b2e777', '#9cdf7c', '#86d780', '#72cf85', '#5ec688', '#4abd8c', '#37b38e',\n",
    "         '#23aa8f', '#0ba08f', '#00968e', '#008c8b', '#008288', '#007882', '#106e7c', '#1b6474', '#225b6c', '#275162',\n",
    "         '#2a4858'])\n",
    "\n",
    "    try:\n",
    "        edges, weights = zip(*nx.get_edge_attributes(graphs[i],'weight').items())\n",
    "        nx.draw(graphs[i], nx.get_node_attributes(graphs[i],'pos'), font_color = \"red\", node_color='b', edgelist=edges, \n",
    "            edge_color=weights, width=1.0, edge_cmap=cmap, vmin=min_weight, vmax=max_weight)\n",
    "    except:\n",
    "        nx.draw_networkx(graphs[i],nx.get_node_attributes(graphs[i],'pos'),font_color = \"red\")\n",
    "    \n",
    "    \n",
    "    figure = plt.gcf()\n",
    "    figure.set_size_inches(30, 30)\n",
    "#     figure.set_size_inches(100, 100)\n",
    "    \n",
    "    \n",
    "    sm = plt.cm.ScalarMappable(cmap=cmap, norm=plt.Normalize(vmin = min_weight, vmax=max_weight))\n",
    "    sm._A = []\n",
    "    plt.colorbar(sm)\n",
    "    \n",
    "    \n",
    "    plt.title(\"Airport Network Of India \"+ lbls1[i])\n",
    "    plt.savefig('Output_Files/matplotlib/map/'+lbls[i])\n",
    " \n",
    "    #plt.show()\n",
    "    plt.clf()\n"
   ]
  },
  {
   "cell_type": "markdown",
   "metadata": {},
   "source": [
    "## Network Visualization"
   ]
  },
  {
   "cell_type": "code",
   "execution_count": 8,
   "metadata": {},
   "outputs": [
    {
     "name": "stdout",
     "output_type": "stream",
     "text": [
      "['1505', '1506', '1507', '1508', '1509', '1510', '1511', '1512', '1601', '1602', '1603', '1604', '1605', '1606', '1607', '1608', '1609', '1610', '1611', '1612', '1701', '1702', '1703', '1704', '1705', '1706', '1707', '1708', '1709', '1710', '1711', '1712', '1801', '1802', '1803', '1804', '1805', '1806', '1807', '1808', '1809', '1810', '1811', '1812', '1901', '1902', '1903', '1904', '1905', '1906', '1907', '1908', '1909', '1910', '1911', '1912', '2001', '2002', '2003', '2004', '2005', '2006', '2007', '2008', '2009', '2010']\n"
     ]
    },
    {
     "data": {
      "image/png": "[encoded data removed]",
      "text/plain": [
       "<Figure size 3600x576 with 1 Axes>"
      ]
     },
     "metadata": {
      "needs_background": "light"
     },
     "output_type": "display_data"
    }
   ],
   "source": [
    "nodes = []\n",
    "for i in range(len(graphs)):\n",
    "    nodes.append(len(graphs[i].nodes()))\n",
    "print(lbls)\n",
    "plt.plot(nodes, color=\"red\", marker=\"o\")\n",
    "plt.xlabel(\"Month Year (MMMYY)\")\n",
    "\n",
    "plt.xticks([i for i in range(66)], labels = lbls1)\n",
    "plt.ylabel(\"Number of Active Airports\")\n",
    "plt.title(\"Number of Active Airports in India\")\n",
    "plt.grid(True)\n",
    "\n",
    "figure = plt.gcf()\n",
    "figure.set_size_inches(50, 8)\n",
    "plt.savefig('Output_Files/matplotlib/nodes')\n",
    "plt.show()"
   ]
  },
  {
   "cell_type": "code",
   "execution_count": 9,
   "metadata": {},
   "outputs": [
    {
     "data": {
      "image/png": "[encoded data removed]",
      "text/plain": [
       "<Figure size 3600x720 with 1 Axes>"
      ]
     },
     "metadata": {
      "needs_background": "light"
     },
     "output_type": "display_data"
    }
   ],
   "source": [
    "nnodes = []\n",
    "airpor = {} \n",
    "for i in range(len(graphs)):\n",
    "    temp = 0\n",
    "    for j in graphs[i].nodes():\n",
    "        if j not in airpor:\n",
    "            airpor[j]=  1\n",
    "            temp += 1\n",
    "    nnodes.append(temp)\n",
    "nnodes[0] = 0\n",
    "plt.plot(nnodes, color=\"red\", marker=\"o\")\n",
    "plt.xlabel(\"Year/Month (YYMM)\")\n",
    "plt.xticks([i for i in range(66)], labels = lbls1)\n",
    "plt.ylabel(\"Number of New Airports\")\n",
    "plt.title(\"Number of New Airports in India\")\n",
    "plt.grid(True)\n",
    "plt.ylim(-1,6)\n",
    "figure = plt.gcf()\n",
    "figure.set_size_inches(50, 10)\n",
    "plt.savefig('Output_Files/matplotlib/newnodes')\n",
    "plt.show()"
   ]
  },
  {
   "cell_type": "code",
   "execution_count": 10,
   "metadata": {},
   "outputs": [
    {
     "data": {
      "image/png": "[encoded data removed]",
      "text/plain": [
       "<Figure size 3600x576 with 1 Axes>"
      ]
     },
     "metadata": {
      "needs_background": "light"
     },
     "output_type": "display_data"
    }
   ],
   "source": [
    "edges = []\n",
    "for i in range(len(graphs)):\n",
    "    edges.append(len(graphs[i].edges()))\n",
    "plt.plot(edges, color=\"red\", marker=\"o\")\n",
    "plt.xlabel(\"Year/Month (YYMM)\")\n",
    "plt.xticks([i for i in range(66)], labels = lbls1)\n",
    "plt.ylabel(\"Number of Active Airport Connections\")\n",
    "plt.title(\"Number of Active Airport Connections in India\")\n",
    "plt.grid(True)\n",
    "figure = plt.gcf()\n",
    "figure.set_size_inches(50, 8)\n",
    "plt.savefig('Output_Files/matplotlib/edges')\n",
    "plt.show()"
   ]
  },
  {
   "cell_type": "code",
   "execution_count": 11,
   "metadata": {},
   "outputs": [
    {
     "data": {
      "image/png": "[encoded data removed]",
      "text/plain": [
       "<Figure size 3600x576 with 1 Axes>"
      ]
     },
     "metadata": {
      "needs_background": "light"
     },
     "output_type": "display_data"
    }
   ],
   "source": [
    "plt.plot(passengers, color=\"red\",  marker=\"o\")\n",
    "plt.xlabel(\"Year/Month (YYMM)\")\n",
    "plt.xticks([i for i in range(66)],labels = lbls1)\n",
    "plt.ylabel(\"Number of Passengers\")\n",
    "plt.title(\"Number of Passengers Travelling in India\")\n",
    "plt.grid(True)\n",
    "figure = plt.gcf()\n",
    "figure.set_size_inches(50, 8)\n",
    "plt.savefig('Output_Files/matplotlib/passengers')\n",
    "plt.show()"
   ]
  },
  {
   "cell_type": "code",
   "execution_count": 12,
   "metadata": {},
   "outputs": [
    {
     "name": "stdout",
     "output_type": "stream",
     "text": [
      "ADAMPUR\n",
      "AGARTALA\n",
      "AGATTI ISLAND\n",
      "AGRA\n",
      "AHMEDABAD\n",
      "AIZAWL\n",
      "AJMER\n",
      "ALLAHABAD\n",
      "AMRITSAR\n",
      "AURANGABAD\n",
      "BAGDOGRA\n",
      "BELGAUM\n",
      "BENGALURU\n",
      "BHATINDA\n",
      "BHAVNAGAR\n",
      "BHOPAL\n",
      "BHUBANESWAR\n",
      "BHUJ\n",
      "BIDAR AIRPORT, KARNATAKA\n",
      "BIKANER\n",
      "CHANDIGARH\n",
      "CHENNAI\n",
      "COCHIN\n",
      "COIMBATORE\n",
      "CUDDAPAH\n",
      "DABOLIM\n",
      "DEHRA DUN\n",
      "DELHI\n",
      "DHARAMSALA\n",
      "DIBRUGARH\n",
      "DIMAPUR\n",
      "DIU\n",
      "DURGAPUR\n",
      "GANGTOK\n",
      "GAYA\n",
      "GHAZIABAD\n",
      "GOA\n",
      "GORAKHPUR\n",
      "GUWAHATI\n",
      "GWALIOR\n",
      "HUBLI\n",
      "HYDERABAD\n",
      "IMPHAL\n",
      "INDORE\n",
      "JABALPUR\n",
      "JAGDALPUR\n",
      "JAIPUR\n",
      "JAISALMER\n",
      "JALGAON\n",
      "JAMMU\n",
      "JAMNAGAR\n",
      "JHARSUGUDA\n",
      "JODHPUR\n",
      "JORHAT\n",
      "Jharsuguda\n",
      "KADAPA\n",
      "KALABURAGI, KARNATAKA\n",
      "KANDLA\n",
      "KANNUR\n",
      "KANPUR\n",
      "KHAJURAHO\n",
      "KOCHI\n",
      "KOLHAPUR\n",
      "KOLKATA\n",
      "KOZHIKODE\n",
      "KULLU\n",
      "LEH\n",
      "LILABARI\n",
      "LUCKNOW\n",
      "LUDHIANA\n",
      "MADURAI\n",
      "MANGALORE\n",
      "MUMBAI\n",
      "MUNDRA\n",
      "MYSORE\n",
      "NAGPUR\n",
      "NANDED\n",
      "NASIK\n",
      "PAKYONG\n",
      "PANTNAGAR\n",
      "PASIGHAT\n",
      "PATHANKOT\n",
      "PATNA\n",
      "PITHORAGARH\n",
      "PONDICHERRY\n",
      "PORBANDAR\n",
      "PORT BLAIR\n",
      "PUDUCHERRY\n",
      "PUNE\n",
      "RAIPUR\n",
      "RAJAHMUNDRY\n",
      "RAJKOT\n",
      "RANCHI\n",
      "SALEM\n",
      "SHILLONG\n",
      "SHIRDI\n",
      "SILCHAR\n",
      "SIMLA\n",
      "SRINAGAR\n",
      "SURAT\n",
      "TEZPUR\n",
      "TIRUCHIRAPALLY\n",
      "TIRUPATI\n",
      "TRIVANDRUM\n",
      "TUTICORIN\n",
      "UDAIPUR\n",
      "VADODARA\n",
      "VARANASI\n",
      "VIDYANAGAR\n",
      "VIJAYAWADA\n",
      "VISAKHAPATNAM\n"
     ]
    }
   ],
   "source": [
    "for i in sorted(airpor.keys()):\n",
    "    print(i)"
   ]
  },
  {
   "cell_type": "markdown",
   "metadata": {},
   "source": [
    "excel = pd.read_csv(\"Raw_Data/coordinates/sorted_coordinates.csv\",header=0)\n",
    "tempcity = list(excel[\"Cities\"])\n",
    "#print(tempcity)\n",
    "for i in sorted(airpor.keys()):\n",
    "    if i not in tempcity:\n",
    "        print(i)"
   ]
  },
  {
   "cell_type": "code",
   "execution_count": null,
   "metadata": {},
   "outputs": [],
   "source": []
  },
  {
   "cell_type": "code",
   "execution_count": 13,
   "metadata": {},
   "outputs": [
    {
     "name": "stdout",
     "output_type": "stream",
     "text": [
      "May15\n",
      "Top 10 nodes\n",
      "DELHI -> 0.35088642067808723\n",
      "MUMBAI -> 0.2462499554394531\n",
      "KOLKATA -> 0.14229527765486671\n",
      "BENGALURU -> 0.12847787254179963\n",
      "CHENNAI -> 0.09071295217128547\n",
      "GUWAHATI -> 0.06162531447919573\n",
      "HYDERABAD -> 0.04865761880602063\n",
      "KOCHI -> 0.0279885766187136\n",
      "SILCHAR -> 0.0273972602739726\n",
      "AHMEDABAD -> 0.00892063262925135\n",
      "June15\n",
      "Top 10 nodes\n",
      "DELHI -> 0.347284328962411\n",
      "MUMBAI -> 0.240014704227033\n",
      "BENGALURU -> 0.15818270955257266\n",
      "KOLKATA -> 0.13654468757208485\n",
      "CHENNAI -> 0.08676250833785078\n",
      "GUWAHATI -> 0.06227147168927988\n",
      "HYDERABAD -> 0.04598120625517885\n",
      "KOCHI -> 0.02760236184893719\n",
      "SILCHAR -> 0.02702702702702703\n",
      "AHMEDABAD -> 0.008529895687429935\n",
      "July15\n",
      "Top 10 nodes\n",
      "DELHI -> 0.33858513183513167\n",
      "MUMBAI -> 0.22533362558362557\n",
      "BENGALURU -> 0.16823499273499282\n",
      "KOLKATA -> 0.13308620958620956\n",
      "CHENNAI -> 0.08914823564823564\n",
      "GUWAHATI -> 0.061061578061578047\n",
      "HYDERABAD -> 0.04735814210814211\n",
      "KOCHI -> 0.028210214210214208\n",
      "SILCHAR -> 0.02666666666666667\n",
      "VARANASI -> 0.018153796653796652\n",
      "Aug15\n",
      "Top 10 nodes\n",
      "DELHI -> 0.3319627102127101\n",
      "MUMBAI -> 0.22147263472263465\n",
      "BENGALURU -> 0.16893737393737396\n",
      "KOLKATA -> 0.1342011592011592\n",
      "CHENNAI -> 0.08173176073176076\n",
      "GUWAHATI -> 0.06018598118598117\n",
      "HYDERABAD -> 0.047973724723724735\n",
      "KOCHI -> 0.0281028926028926\n",
      "SILCHAR -> 0.026486486486486487\n",
      "AHMEDABAD -> 0.006735303485303486\n",
      "Sep15\n",
      "Top 10 nodes\n",
      "DELHI -> 0.33725071564912634\n",
      "MUMBAI -> 0.22566113279330988\n",
      "BENGALURU -> 0.18631181228583835\n",
      "KOLKATA -> 0.15983223884795997\n",
      "CHENNAI -> 0.0781863371875334\n",
      "HYDERABAD -> 0.04510404178679983\n",
      "GUWAHATI -> 0.03294620811708986\n",
      "KHAJURAHO -> 0.012987012987012988\n",
      "VARANASI -> 0.00876986422099204\n",
      "KOCHI -> 0.008197780707179199\n",
      "Oct15\n",
      "Top 10 nodes\n",
      "DELHI -> 0.34410949089264176\n",
      "MUMBAI -> 0.21970762111739559\n",
      "BENGALURU -> 0.16764520083470882\n",
      "KOLKATA -> 0.14315797411747516\n",
      "CHENNAI -> 0.07987776065356375\n",
      "GUWAHATI -> 0.05705143379442763\n",
      "HYDERABAD -> 0.04385430918667421\n",
      "KOCHI -> 0.02729713895127428\n",
      "SILCHAR -> 0.025974025974025976\n",
      "KHAJURAHO -> 0.012987012987012988\n",
      "Nov15\n",
      "Top 10 nodes\n",
      "DELHI -> 0.3630362515068396\n",
      "MUMBAI -> 0.20011621858680687\n",
      "KOLKATA -> 0.1512228611640376\n",
      "BENGALURU -> 0.14687035163505746\n",
      "CHENNAI -> 0.08248827648827649\n",
      "GUWAHATI -> 0.052130540924658575\n",
      "HYDERABAD -> 0.04886729433788261\n",
      "KOCHI -> 0.02692621192621193\n",
      "SILCHAR -> 0.02666666666666667\n",
      "KHAJURAHO -> 0.013333333333333334\n",
      "Dec15\n",
      "Top 10 nodes\n",
      "DELHI -> 0.33198705989801874\n",
      "MUMBAI -> 0.23286739023040395\n",
      "KOLKATA -> 0.14900770945291494\n",
      "BENGALURU -> 0.1417942073763992\n",
      "CHENNAI -> 0.08135065600819025\n",
      "HYDERABAD -> 0.04500343387329688\n",
      "GUWAHATI -> 0.0330672253617459\n",
      "KHAJURAHO -> 0.013328396890040726\n",
      "VARANASI -> 0.008356399452289864\n",
      "KOCHI -> 0.007780708123173873\n",
      "Jan16\n",
      "Top 10 nodes\n",
      "DELHI -> 0.380139323118775\n",
      "MUMBAI -> 0.22425814857321708\n",
      "BENGALURU -> 0.1310126902592655\n",
      "KOLKATA -> 0.13077254104651365\n",
      "CHENNAI -> 0.07806065237572091\n",
      "HYDERABAD -> 0.0409412792974437\n",
      "GUWAHATI -> 0.033470596313062075\n",
      "KHAJURAHO -> 0.013328396890040726\n",
      "KOCHI -> 0.00839327585902928\n",
      "VARANASI -> 0.0075624548227287945\n",
      "Feb16\n",
      "Top 10 nodes\n",
      "DELHI -> 0.3731989989124691\n",
      "MUMBAI -> 0.23178630624406873\n",
      "KOLKATA -> 0.13256901647312605\n",
      "BENGALURU -> 0.12812538277720917\n",
      "CHENNAI -> 0.07878333403447559\n",
      "HYDERABAD -> 0.04222816493079051\n",
      "GUWAHATI -> 0.03373963259808009\n",
      "KHAJURAHO -> 0.0136986301369863\n",
      "KOCHI -> 0.00924966818231658\n",
      "VARANASI -> 0.007582264260346451\n",
      "March16\n",
      "Top 10 nodes\n",
      "DELHI -> 0.3720500903449715\n",
      "MUMBAI -> 0.2272769308457845\n",
      "KOLKATA -> 0.14396218996074797\n",
      "BENGALURU -> 0.1230478181811995\n",
      "CHENNAI -> 0.081990831990832\n",
      "HYDERABAD -> 0.039755348803654514\n",
      "GUWAHATI -> 0.0275786285699768\n",
      "KHAJURAHO -> 0.013513513513513514\n",
      "KOCHI -> 0.008828450438039478\n",
      "AHMEDABAD -> 0.00798564117778249\n",
      "April16\n",
      "Top 10 nodes\n",
      "DELHI -> 0.3697537585934039\n",
      "MUMBAI -> 0.20391372580131642\n",
      "KOLKATA -> 0.10788014172381621\n",
      "BENGALURU -> 0.09675679124712158\n",
      "CHENNAI -> 0.08597223200365828\n",
      "HYDERABAD -> 0.06028992164669039\n",
      "GUWAHATI -> 0.03485574412750079\n",
      "KOCHI -> 0.01461831316283371\n",
      "SILCHAR -> 0.013143280266567938\n",
      "TIRUPATI -> 0.013078489448352463\n",
      "May16\n",
      "Top 10 nodes\n",
      "DELHI -> 0.3732843704590281\n",
      "MUMBAI -> 0.2024232629540849\n",
      "KOLKATA -> 0.10268548196630384\n",
      "BENGALURU -> 0.09787225557773502\n",
      "CHENNAI -> 0.08603404750665025\n",
      "HYDERABAD -> 0.06896959379836091\n",
      "GUWAHATI -> 0.03669837351344201\n",
      "KOCHI -> 0.014557091783119178\n",
      "SILCHAR -> 0.013143280266567938\n",
      "KHAJURAHO -> 0.01295816364309515\n",
      "June16\n",
      "Top 10 nodes\n",
      "DELHI -> 0.3662591163618158\n",
      "MUMBAI -> 0.1846833683834858\n",
      "KOLKATA -> 0.10603970559956472\n",
      "CHENNAI -> 0.10321325561935889\n",
      "BENGALURU -> 0.10167931855138422\n",
      "HYDERABAD -> 0.05711375598406117\n",
      "GUWAHATI -> 0.03733905038189076\n",
      "KOCHI -> 0.014770821901103593\n",
      "SILCHAR -> 0.013497652582159621\n",
      "SRINAGAR -> 0.005607953275206796\n",
      "July16\n",
      "Top 10 nodes\n",
      "DELHI -> 0.3619705774886861\n",
      "MUMBAI -> 0.18958415438797732\n",
      "CHENNAI -> 0.10660091864317214\n",
      "KOLKATA -> 0.10139239700607909\n",
      "BENGALURU -> 0.09988372235857138\n",
      "HYDERABAD -> 0.05658962600109483\n",
      "GUWAHATI -> 0.03823914125221972\n",
      "KOCHI -> 0.015190265803947898\n",
      "SILCHAR -> 0.013682092555331992\n",
      "SRINAGAR -> 0.0050852735460381335\n",
      "Aug16\n",
      "Top 10 nodes\n",
      "DELHI -> 0.36660985945023505\n",
      "MUMBAI -> 0.2158123648000409\n",
      "KOLKATA -> 0.11126660192094465\n",
      "BENGALURU -> 0.10243834477989404\n",
      "CHENNAI -> 0.09437864995376734\n",
      "HYDERABAD -> 0.06728609918163908\n",
      "GUWAHATI -> 0.05714408396333277\n",
      "KOCHI -> 0.029342261589914164\n",
      "SILCHAR -> 0.02777777777777778\n",
      "VIJAYAWADA -> 0.011942179929269135\n",
      "Sep16\n",
      "Top 10 nodes\n",
      "DELHI -> 0.3590589235947907\n",
      "MUMBAI -> 0.21747064005935862\n",
      "KOLKATA -> 0.11802535476071788\n",
      "BENGALURU -> 0.11371715350070775\n",
      "CHENNAI -> 0.08534324794335836\n",
      "HYDERABAD -> 0.06630591499671172\n",
      "GUWAHATI -> 0.05660383891017693\n",
      "KOCHI -> 0.02921268616518547\n",
      "SILCHAR -> 0.02777777777777778\n",
      "VIJAYAWADA -> 0.011908346826187202\n",
      "Oct16\n",
      "Top 10 nodes\n",
      "DELHI -> 0.35480754183665136\n",
      "MUMBAI -> 0.20484409098849735\n",
      "KOLKATA -> 0.11296384308655998\n",
      "BENGALURU -> 0.11185965966217105\n",
      "CHENNAI -> 0.08059215539238368\n",
      "HYDERABAD -> 0.050599160373703746\n",
      "GUWAHATI -> 0.03616702614990287\n",
      "VIJAYAWADA -> 0.027326153467705977\n",
      "KOCHI -> 0.014247889033847936\n",
      "SILCHAR -> 0.013318112633181126\n",
      "Nov16\n",
      "Top 10 nodes\n",
      "DELHI -> 0.3628807054606142\n",
      "MUMBAI -> 0.2113294863009475\n",
      "BENGALURU -> 0.11461657792993409\n",
      "KOLKATA -> 0.10980842153787357\n",
      "CHENNAI -> 0.08632391834446626\n",
      "GUWAHATI -> 0.07326125274184636\n",
      "HYDERABAD -> 0.05140995113883243\n",
      "KOCHI -> 0.02819181706168007\n",
      "VIJAYAWADA -> 0.02784164085533948\n",
      "KHAJURAHO -> 0.0136986301369863\n",
      "Dec16\n",
      "Top 10 nodes\n",
      "DELHI -> 0.39298770874113353\n",
      "MUMBAI -> 0.20930141889045997\n",
      "BENGALURU -> 0.11307739167328208\n",
      "KOLKATA -> 0.09504841696622514\n",
      "CHENNAI -> 0.08450622765691258\n",
      "GUWAHATI -> 0.07229769079084149\n",
      "HYDERABAD -> 0.05124570860872233\n",
      "KOCHI -> 0.027895973272685594\n",
      "VIJAYAWADA -> 0.027442568538458948\n",
      "KHAJURAHO -> 0.013513513513513514\n",
      "Jan17\n",
      "Top 10 nodes\n",
      "DELHI -> 0.3973991444881856\n",
      "MUMBAI -> 0.21533257669102415\n",
      "BENGALURU -> 0.1109990049059683\n",
      "KOLKATA -> 0.09738828628668808\n",
      "CHENNAI -> 0.08025655164639182\n",
      "GUWAHATI -> 0.07440719108812718\n",
      "HYDERABAD -> 0.04785512242704025\n",
      "KOCHI -> 0.02832431869246938\n",
      "KHAJURAHO -> 0.0136986301369863\n",
      "VARANASI -> 0.0062108157570486345\n",
      "Feb17\n",
      "Top 10 nodes\n",
      "DELHI -> 0.4000133289516852\n",
      "MUMBAI -> 0.2052272607067127\n",
      "BENGALURU -> 0.10367597764858044\n",
      "KOLKATA -> 0.09691676592361524\n",
      "CHENNAI -> 0.07542194323016238\n",
      "GUWAHATI -> 0.07109195516729762\n",
      "HYDERABAD -> 0.04574583855405776\n",
      "KOCHI -> 0.028165734672583986\n",
      "KHAJURAHO -> 0.013513513513513514\n",
      "VARANASI -> 0.007735450714902769\n",
      "March17\n",
      "Top 10 nodes\n",
      "DELHI -> 0.4034986154986154\n",
      "MUMBAI -> 0.19939586989586994\n",
      "BENGALURU -> 0.10313456313456314\n",
      "KOLKATA -> 0.1011136396136396\n",
      "CHENNAI -> 0.07927188877188876\n",
      "GUWAHATI -> 0.07048155298155297\n",
      "HYDERABAD -> 0.047964795964796\n",
      "KOCHI -> 0.017568958568958574\n",
      "KHAJURAHO -> 0.013333333333333336\n",
      "VARANASI -> 0.007273487773487773\n",
      "April17\n",
      "Top 10 nodes\n",
      "DELHI -> 0.39856187090667\n",
      "MUMBAI -> 0.19365308304760873\n",
      "KOLKATA -> 0.1138255953444828\n",
      "HYDERABAD -> 0.1010903844869609\n",
      "BENGALURU -> 0.08707243280868182\n",
      "CHENNAI -> 0.08159396187847999\n",
      "GUWAHATI -> 0.07209770902148574\n",
      "KOCHI -> 0.026642295674250558\n",
      "AHMEDABAD -> 0.006356850410165518\n",
      "JAIPUR -> 0.004714140259554596\n",
      "May17\n",
      "Top 10 nodes\n",
      "DELHI -> 0.389483849578689\n",
      "MUMBAI -> 0.19897415469014923\n",
      "KOLKATA -> 0.11123178247665598\n",
      "BENGALURU -> 0.10633400453120212\n",
      "HYDERABAD -> 0.10116912830087811\n",
      "CHENNAI -> 0.0715715461913343\n",
      "GUWAHATI -> 0.07112659403329262\n",
      "KOCHI -> 0.02670719005305471\n",
      "AHMEDABAD -> 0.005064788348281171\n",
      "PUNE -> 0.0029612783927548117\n",
      "June17\n",
      "Top 10 nodes\n",
      "DELHI -> 0.39967142010661577\n",
      "MUMBAI -> 0.1664644172097632\n",
      "HYDERABAD -> 0.10604947770924211\n",
      "BENGALURU -> 0.09870470321497628\n",
      "KOLKATA -> 0.09770536952470732\n",
      "CHENNAI -> 0.0747777400294388\n",
      "GUWAHATI -> 0.06771880906364847\n",
      "KOCHI -> 0.02668040501687118\n",
      "INDORE -> 0.013994605019041113\n",
      "KHAJURAHO -> 0.01298701298701299\n",
      "July17\n",
      "Top 10 nodes\n",
      "DELHI -> 0.3871718305173114\n",
      "MUMBAI -> 0.21212088917355543\n",
      "HYDERABAD -> 0.09928983148024903\n",
      "BENGALURU -> 0.09359646352887668\n",
      "KOLKATA -> 0.08833809465360526\n",
      "CHENNAI -> 0.07064204298045013\n",
      "GUWAHATI -> 0.0643804467197846\n",
      "KOCHI -> 0.02640051097794954\n",
      "INDORE -> 0.014148534937239901\n",
      "KHAJURAHO -> 0.012658227848101266\n",
      "Aug17\n",
      "Top 10 nodes\n",
      "DELHI -> 0.3697375078797266\n",
      "MUMBAI -> 0.21348019672200608\n",
      "HYDERABAD -> 0.12218419387071655\n",
      "BENGALURU -> 0.09682385142642033\n",
      "KOLKATA -> 0.09048686707379924\n",
      "CHENNAI -> 0.07130890244721222\n",
      "GUWAHATI -> 0.0632748580533391\n",
      "KOCHI -> 0.026196109191269273\n",
      "INDORE -> 0.014212364054136204\n",
      "KHAJURAHO -> 0.012658227848101266\n",
      "Sep17\n",
      "Top 10 nodes\n",
      "DELHI -> 0.3881526211365036\n",
      "MUMBAI -> 0.2008639387258699\n",
      "HYDERABAD -> 0.11703813475493695\n",
      "BENGALURU -> 0.09193585468962266\n",
      "KOLKATA -> 0.0904179609137295\n",
      "CHENNAI -> 0.09005681034813828\n",
      "GUWAHATI -> 0.061537629947985124\n",
      "KOCHI -> 0.025339475757271593\n",
      "KHAJURAHO -> 0.012195121951219513\n",
      "VARANASI -> 0.00714978754725819\n",
      "Oct17\n"
     ]
    },
    {
     "name": "stdout",
     "output_type": "stream",
     "text": [
      "Top 10 nodes\n",
      "DELHI -> 0.3868535798157648\n",
      "MUMBAI -> 0.19500025010003996\n",
      "HYDERABAD -> 0.1447209396579144\n",
      "CHENNAI -> 0.09832419156473775\n",
      "KOLKATA -> 0.08197666362582326\n",
      "BENGALURU -> 0.06409792743826358\n",
      "GUWAHATI -> 0.05872495482264389\n",
      "KOCHI -> 0.02480314853214012\n",
      "JAIPUR -> 0.011932166806116383\n",
      "KHAJURAHO -> 0.011764705882352941\n",
      "Nov17\n",
      "Top 10 nodes\n",
      "DELHI -> 0.3955517319526769\n",
      "MUMBAI -> 0.205675523648229\n",
      "HYDERABAD -> 0.12224674423390831\n",
      "CHENNAI -> 0.10625072838618713\n",
      "KOLKATA -> 0.07437406748526243\n",
      "BENGALURU -> 0.06364150666148086\n",
      "GUWAHATI -> 0.05719715227316951\n",
      "KOCHI -> 0.025278338608170532\n",
      "KHAJURAHO -> 0.011764705882352938\n",
      "JAIPUR -> 0.009601869108171623\n",
      "Dec17\n",
      "Top 10 nodes\n",
      "DELHI -> 0.35002007844018346\n",
      "MUMBAI -> 0.25020793068126856\n",
      "HYDERABAD -> 0.12484502893031335\n",
      "CHENNAI -> 0.10313775018330155\n",
      "KOLKATA -> 0.07199720093489176\n",
      "GUWAHATI -> 0.05731374670657452\n",
      "BENGALURU -> 0.04607147873027981\n",
      "KOCHI -> 0.025606174111646063\n",
      "JAIPUR -> 0.018895047421039222\n",
      "PUNE -> 0.011012578884148852\n",
      "Jan18\n",
      "Top 10 nodes\n",
      "DELHI -> 0.35661368891160883\n",
      "MUMBAI -> 0.24590295145829463\n",
      "HYDERABAD -> 0.11026321216179988\n",
      "CHENNAI -> 0.10617699025088183\n",
      "KOLKATA -> 0.07190650466099088\n",
      "GUWAHATI -> 0.05760707892065016\n",
      "BENGALURU -> 0.0549940729227766\n",
      "KOCHI -> 0.025605655933973303\n",
      "JAIPUR -> 0.02348658181763516\n",
      "PUNE -> 0.009719765718397727\n",
      "Feb18\n",
      "Top 10 nodes\n",
      "DELHI -> 0.3586134840936058\n",
      "MUMBAI -> 0.22325431487245026\n",
      "CHENNAI -> 0.1152948180175505\n",
      "HYDERABAD -> 0.0806351896391306\n",
      "KOLKATA -> 0.06973013911519618\n",
      "BENGALURU -> 0.0673199286895702\n",
      "GUWAHATI -> 0.05560932058851191\n",
      "AHMEDABAD -> 0.036586328460060706\n",
      "KOCHI -> 0.024574520959709054\n",
      "JAIPUR -> 0.021439206039519522\n",
      "March18\n",
      "Top 10 nodes\n",
      "DELHI -> 0.35344898078417514\n",
      "MUMBAI -> 0.24544734708987018\n",
      "CHENNAI -> 0.10820810466253705\n",
      "HYDERABAD -> 0.07784356262473152\n",
      "BENGALURU -> 0.07246045424515433\n",
      "KOLKATA -> 0.06674789105743364\n",
      "GUWAHATI -> 0.05368055643509288\n",
      "AHMEDABAD -> 0.024764273180837196\n",
      "KOCHI -> 0.024091822942691177\n",
      "PUNE -> 0.012606106876744206\n",
      "April18\n",
      "Top 10 nodes\n",
      "DELHI -> 0.39379887244635975\n",
      "MUMBAI -> 0.2618398844577317\n",
      "CHENNAI -> 0.09890291607517798\n",
      "HYDERABAD -> 0.08195751597409082\n",
      "KOLKATA -> 0.06775635939058834\n",
      "BENGALURU -> 0.0596475614202772\n",
      "GUWAHATI -> 0.03415095299800268\n",
      "AHMEDABAD -> 0.03380181592754664\n",
      "KOCHI -> 0.023140896401906485\n",
      "JAIPUR -> 0.012523936553439662\n",
      "May18\n",
      "Top 10 nodes\n",
      "DELHI -> 0.3879205432548322\n",
      "MUMBAI -> 0.24685223060964923\n",
      "CHENNAI -> 0.09787400777246962\n",
      "HYDERABAD -> 0.08786854925122514\n",
      "KOLKATA -> 0.08352565976914962\n",
      "BENGALURU -> 0.06518220860846724\n",
      "AHMEDABAD -> 0.03932914965001443\n",
      "GUWAHATI -> 0.026328935354834666\n",
      "JAIPUR -> 0.013562568493631516\n",
      "KHAJURAHO -> 0.010638297872340427\n",
      "June18\n",
      "Top 10 nodes\n",
      "DELHI -> 0.3787201191432163\n",
      "MUMBAI -> 0.2506856299282192\n",
      "CHENNAI -> 0.09127058044471605\n",
      "BENGALURU -> 0.08743491485869831\n",
      "KOLKATA -> 0.08439135696911572\n",
      "HYDERABAD -> 0.0813540983147816\n",
      "GUWAHATI -> 0.026104975631399803\n",
      "JAIPUR -> 0.024142762189158715\n",
      "VISAKHAPATNAM -> 0.012296955695232082\n",
      "RAIPUR -> 0.01194002265979706\n",
      "July18\n",
      "Top 10 nodes\n",
      "DELHI -> 0.37892692973713904\n",
      "MUMBAI -> 0.24978262499593495\n",
      "BENGALURU -> 0.09398814947021644\n",
      "KOLKATA -> 0.090888554252901\n",
      "HYDERABAD -> 0.0817082945111902\n",
      "CHENNAI -> 0.08058966264125984\n",
      "JAIPUR -> 0.03455513894654426\n",
      "GUWAHATI -> 0.03257561833247116\n",
      "VISAKHAPATNAM -> 0.012143700948565235\n",
      "RAIPUR -> 0.011879347982098479\n",
      "Aug18\n",
      "Top 10 nodes\n",
      "DELHI -> 0.37294790923145726\n",
      "MUMBAI -> 0.23800726780515274\n",
      "BENGALURU -> 0.09304718801172356\n",
      "KOLKATA -> 0.09292009047872983\n",
      "CHENNAI -> 0.07999623905696265\n",
      "HYDERABAD -> 0.07952260176098598\n",
      "JAIPUR -> 0.03454703389116214\n",
      "AHMEDABAD -> 0.03275022300940643\n",
      "GUWAHATI -> 0.03131473231528056\n",
      "VISAKHAPATNAM -> 0.012414947305276964\n",
      "Sep18\n",
      "Top 10 nodes\n",
      "DELHI -> 0.3613788611936439\n",
      "MUMBAI -> 0.23642120659049326\n",
      "BENGALURU -> 0.09734862916346317\n",
      "KOLKATA -> 0.09473614670010477\n",
      "HYDERABAD -> 0.08298556696443932\n",
      "CHENNAI -> 0.07774807081231085\n",
      "AHMEDABAD -> 0.034695700522704945\n",
      "JAIPUR -> 0.034448409827551096\n",
      "GUWAHATI -> 0.02974260047621261\n",
      "VISAKHAPATNAM -> 0.012217994800375916\n",
      "Oct18\n",
      "Top 10 nodes\n",
      "DELHI -> 0.3848853200027197\n",
      "MUMBAI -> 0.19072632630475747\n",
      "KOLKATA -> 0.12678375445998397\n",
      "BENGALURU -> 0.11390014751392537\n",
      "HYDERABAD -> 0.07858399742788036\n",
      "CHENNAI -> 0.06786086278144446\n",
      "AHMEDABAD -> 0.035283691922097155\n",
      "GUWAHATI -> 0.017065010809788644\n",
      "JAIPUR -> 0.013909584249537425\n",
      "KOCHI -> 0.010395687200241725\n",
      "Nov18\n",
      "Top 10 nodes\n",
      "DELHI -> 0.3920211909614848\n",
      "MUMBAI -> 0.1924282146147808\n",
      "CHENNAI -> 0.09542412780391561\n",
      "BENGALURU -> 0.09038366835426959\n",
      "HYDERABAD -> 0.07226246967995037\n",
      "KOLKATA -> 0.06685349986496175\n",
      "GUWAHATI -> 0.03943109386665621\n",
      "KOCHI -> 0.0285237132387627\n",
      "JAIPUR -> 0.01914864468813239\n",
      "AHMEDABAD -> 0.00815267874823381\n",
      "Dec18\n",
      "Top 10 nodes\n",
      "DELHI -> 0.3862013449737934\n",
      "MUMBAI -> 0.1803953439703503\n",
      "BENGALURU -> 0.10281420957765863\n",
      "CHENNAI -> 0.09717765921367025\n",
      "HYDERABAD -> 0.08245646482019243\n",
      "KOLKATA -> 0.06681331090465256\n",
      "GUWAHATI -> 0.03939560156229019\n",
      "KOCHI -> 0.028914454074453266\n",
      "JAIPUR -> 0.01879870338640651\n",
      "AHMEDABAD -> 0.017434754517352564\n",
      "Jan19\n",
      "Top 10 nodes\n",
      "DELHI -> 0.3591616209453367\n",
      "MUMBAI -> 0.18011412439321775\n",
      "BENGALURU -> 0.12389120614813608\n",
      "KOLKATA -> 0.10428429665855865\n",
      "CHENNAI -> 0.09542928077239618\n",
      "HYDERABAD -> 0.07863950386961742\n",
      "GUWAHATI -> 0.041835738905129614\n",
      "JAIPUR -> 0.02216053189322975\n",
      "AHMEDABAD -> 0.021461044390740404\n",
      "DEHRA DUN -> 0.020253211652604415\n",
      "Feb19\n",
      "Top 10 nodes\n",
      "DELHI -> 0.34330946340487645\n",
      "MUMBAI -> 0.17056467047657384\n",
      "BENGALURU -> 0.11029081805070703\n",
      "CHENNAI -> 0.09527257307663237\n",
      "KOLKATA -> 0.08734704452620792\n",
      "HYDERABAD -> 0.08620312234910313\n",
      "GUWAHATI -> 0.03453242576811153\n",
      "AHMEDABAD -> 0.025607305838734624\n",
      "JAIPUR -> 0.022472274537641376\n",
      "DEHRA DUN -> 0.021854029798099323\n",
      "March19\n",
      "Top 10 nodes\n",
      "DELHI -> 0.33459658548242033\n",
      "MUMBAI -> 0.17150923249158742\n",
      "KOLKATA -> 0.13048827166728827\n",
      "BENGALURU -> 0.11622868869454689\n",
      "CHENNAI -> 0.09518822810207013\n",
      "HYDERABAD -> 0.09177398629127013\n",
      "GUWAHATI -> 0.03122435997847182\n",
      "JAIPUR -> 0.02918424286555092\n",
      "AHMEDABAD -> 0.025535987547765388\n",
      "KOCHI -> 0.017609558047539258\n",
      "April19\n",
      "Top 10 nodes\n",
      "DELHI -> 0.3286264278878634\n",
      "MUMBAI -> 0.17863541237518368\n",
      "KOLKATA -> 0.1419713320839881\n",
      "BENGALURU -> 0.10855123059996762\n",
      "HYDERABAD -> 0.10672493622517408\n",
      "CHENNAI -> 0.09570366401512553\n",
      "JAIPUR -> 0.03130977223717591\n",
      "AHMEDABAD -> 0.028875611569557133\n",
      "GUWAHATI -> 0.028382667398359374\n",
      "KOCHI -> 0.0163883554257105\n",
      "May19\n",
      "Top 10 nodes\n",
      "DELHI -> 0.3225828994856628\n",
      "MUMBAI -> 0.166129462602276\n",
      "KOLKATA -> 0.13719984946394598\n",
      "HYDERABAD -> 0.12511972625780038\n",
      "CHENNAI -> 0.09637291655301386\n",
      "BENGALURU -> 0.09360853447996673\n",
      "AHMEDABAD -> 0.044387847041023124\n",
      "JAIPUR -> 0.03053389721724148\n",
      "GUWAHATI -> 0.02736689059690099\n",
      "KOCHI -> 0.015840549392660424\n",
      "June19\n",
      "Top 10 nodes\n",
      "DELHI -> 0.3166128877386278\n",
      "MUMBAI -> 0.18232915834806251\n",
      "KOLKATA -> 0.12787054282005061\n",
      "HYDERABAD -> 0.1089315144951729\n",
      "BENGALURU -> 0.10461768001252622\n",
      "CHENNAI -> 0.08295033714665136\n",
      "AHMEDABAD -> 0.0402484433113682\n",
      "JAIPUR -> 0.030345237755008587\n",
      "GUWAHATI -> 0.027541110941311564\n",
      "KOCHI -> 0.015722189796651843\n",
      "July19\n",
      "Top 10 nodes\n",
      "DELHI -> 0.31183559078200906\n",
      "MUMBAI -> 0.1824536048045582\n",
      "KOLKATA -> 0.1225269183925856\n",
      "HYDERABAD -> 0.11065731162154958\n",
      "BENGALURU -> 0.10007206103326277\n",
      "CHENNAI -> 0.08235662893709243\n",
      "AHMEDABAD -> 0.042872761856347\n",
      "JAIPUR -> 0.0389956416905533\n",
      "GUWAHATI -> 0.024491283900188194\n",
      "KOCHI -> 0.014832699157231762\n",
      "Aug19\n",
      "Top 10 nodes\n",
      "DELHI -> 0.320562876522581\n",
      "MUMBAI -> 0.18967747004684646\n",
      "KOLKATA -> 0.13117308723313936\n",
      "BENGALURU -> 0.11811203289148094\n",
      "HYDERABAD -> 0.09525727590719543\n",
      "CHENNAI -> 0.08117459480310239\n",
      "AHMEDABAD -> 0.038681691600393246\n",
      "JAIPUR -> 0.029568766643592016\n",
      "GUWAHATI -> 0.027994395340532528\n",
      "KOCHI -> 0.01687165692831887\n",
      "Sep19\n",
      "Top 10 nodes\n",
      "DELHI -> 0.3016911375106036\n",
      "MUMBAI -> 0.19450626938075913\n",
      "KOLKATA -> 0.13427899189841874\n",
      "BENGALURU -> 0.1062107617312732\n",
      "HYDERABAD -> 0.10327370165978081\n",
      "CHENNAI -> 0.0732374363018449\n",
      "AHMEDABAD -> 0.058385053044127305\n",
      "JAIPUR -> 0.029188129997682746\n",
      "DEHRA DUN -> 0.023810902984811453\n",
      "GUWAHATI -> 0.01857566881547159\n",
      "Oct19\n",
      "Top 10 nodes\n",
      "DELHI -> 0.3043549222097024\n",
      "MUMBAI -> 0.19028950066332406\n",
      "KOLKATA -> 0.12113520853967628\n",
      "HYDERABAD -> 0.10239186849555214\n",
      "BENGALURU -> 0.10157422514594244\n",
      "CHENNAI -> 0.06633955298434248\n",
      "AHMEDABAD -> 0.04886561659496043\n",
      "DEHRA DUN -> 0.04321027297217772\n",
      "GUWAHATI -> 0.02419544760875385\n",
      "PITHORAGARH -> 0.020202020202020197\n",
      "Nov19\n"
     ]
    },
    {
     "name": "stdout",
     "output_type": "stream",
     "text": [
      "Top 10 nodes\n",
      "DELHI -> 0.3004775012986095\n",
      "MUMBAI -> 0.18929624412259105\n",
      "BENGALURU -> 0.12626545663891467\n",
      "KOLKATA -> 0.12230759410048259\n",
      "HYDERABAD -> 0.1082019677469551\n",
      "CHENNAI -> 0.06773797987265164\n",
      "AHMEDABAD -> 0.041482085114725\n",
      "GUWAHATI -> 0.024971958102566034\n",
      "DEHRA DUN -> 0.02337535268751846\n",
      "JAIPUR -> 0.023120821986997518\n",
      "Dec19\n",
      "Top 10 nodes\n",
      "DELHI -> 0.29510150045322\n",
      "MUMBAI -> 0.18616953327197938\n",
      "BENGALURU -> 0.1269805307370882\n",
      "KOLKATA -> 0.11702156327469851\n",
      "HYDERABAD -> 0.10889042522381517\n",
      "CHENNAI -> 0.06839940235293383\n",
      "AHMEDABAD -> 0.04854809431376554\n",
      "GUWAHATI -> 0.03043069431189349\n",
      "JAIPUR -> 0.025278222821463976\n",
      "DEHRA DUN -> 0.023356598806004627\n",
      "Jan20\n",
      "Top 10 nodes\n",
      "DELHI -> 0.29760778777877034\n",
      "MUMBAI -> 0.16986625176670753\n",
      "BENGALURU -> 0.12167532491877861\n",
      "HYDERABAD -> 0.10899352729986823\n",
      "KOLKATA -> 0.09063959353321241\n",
      "AHMEDABAD -> 0.0829694873052305\n",
      "CHENNAI -> 0.0747925616293193\n",
      "GUWAHATI -> 0.05682827189373237\n",
      "DEHRA DUN -> 0.022874612855597127\n",
      "JAIPUR -> 0.022685307897305558\n",
      "Feb20\n",
      "Top 10 nodes\n",
      "DELHI -> 0.2977038444480793\n",
      "MUMBAI -> 0.1871189380113593\n",
      "BENGALURU -> 0.14552882628665992\n",
      "HYDERABAD -> 0.10748381738933742\n",
      "KOLKATA -> 0.08981769998771927\n",
      "CHENNAI -> 0.06561872431474068\n",
      "GUWAHATI -> 0.052746696907618865\n",
      "AHMEDABAD -> 0.050008611431410395\n",
      "DEHRA DUN -> 0.023016893864756534\n",
      "JAIPUR -> 0.022851044155594545\n",
      "March20\n",
      "Top 10 nodes\n",
      "DELHI -> 0.28706411629490336\n",
      "MUMBAI -> 0.17485701650968632\n",
      "BENGALURU -> 0.14485940510967207\n",
      "HYDERABAD -> 0.10603765451143549\n",
      "KOLKATA -> 0.08907285934858172\n",
      "AHMEDABAD -> 0.07377890003475952\n",
      "CHENNAI -> 0.06539580997127001\n",
      "GUWAHATI -> 0.053817463278657246\n",
      "JAIPUR -> 0.023467169198929105\n",
      "DEHRA DUN -> 0.02294312466227288\n",
      "April20\n",
      "Top 10 nodes\n",
      "BENGALURU -> 0.0\n",
      "CHENNAI -> 0.0\n",
      "DELHI -> 0.0\n",
      "MUMBAI -> 0.0\n",
      "HYDERABAD -> 0.0\n",
      "KOLKATA -> 0.0\n",
      "May20\n",
      "Top 10 nodes\n",
      "DELHI -> 0.43306824862380405\n",
      "BENGALURU -> 0.27373531946448604\n",
      "HYDERABAD -> 0.11971495711079042\n",
      "MUMBAI -> 0.11556181858265191\n",
      "CHENNAI -> 0.10614652922523299\n",
      "AHMEDABAD -> 0.10562996031746036\n",
      "KOLKATA -> 0.07459086566725456\n",
      "HUBLI -> 0.024228395061728393\n",
      "DEHRA DUN -> 0.024228395061728393\n",
      "GUWAHATI -> 0.018084766313932975\n",
      "June20\n",
      "Top 10 nodes\n",
      "DELHI -> 0.3298555741318839\n",
      "HYDERABAD -> 0.1783819412801943\n",
      "BENGALURU -> 0.16651329928458455\n",
      "KOLKATA -> 0.14500662881851667\n",
      "MUMBAI -> 0.1365135437250966\n",
      "AHMEDABAD -> 0.08513438960530086\n",
      "CHENNAI -> 0.06951923721361324\n",
      "GUWAHATI -> 0.03039277887487345\n",
      "JAIPUR -> 0.025890871201775183\n",
      "DHARAMSALA -> 0.02385765763574753\n",
      "July20\n",
      "Top 10 nodes\n",
      "DELHI -> 0.3072906724501209\n",
      "MUMBAI -> 0.18197827652767315\n",
      "HYDERABAD -> 0.1810350250514008\n",
      "BENGALURU -> 0.15947990761662384\n",
      "KOLKATA -> 0.11974610145693965\n",
      "AHMEDABAD -> 0.08651708804773887\n",
      "CHENNAI -> 0.05979003355969529\n",
      "CHANDIGARH -> 0.02433136877168336\n",
      "JAIPUR -> 0.0220366494176018\n",
      "GUWAHATI -> 0.018584435846340605\n",
      "Aug20\n",
      "Top 10 nodes\n",
      "DELHI -> 0.32080629827238166\n",
      "BENGALURU -> 0.20792551986917196\n",
      "HYDERABAD -> 0.16681440173750967\n",
      "MUMBAI -> 0.1576316631923739\n",
      "KOLKATA -> 0.0814266170558856\n",
      "CHENNAI -> 0.07096568729141986\n",
      "GUWAHATI -> 0.04093378205517442\n",
      "JAIPUR -> 0.027099310141279746\n",
      "AHMEDABAD -> 0.022813635339261215\n",
      "HUBLI -> 0.022097378277153554\n",
      "Sep20\n",
      "Top 10 nodes\n",
      "DELHI -> 0.24727631765163527\n",
      "MUMBAI -> 0.2142695730827526\n",
      "BENGALURU -> 0.16420900766839955\n",
      "HYDERABAD -> 0.16255094536262493\n",
      "KOLKATA -> 0.09897443770857046\n",
      "CHENNAI -> 0.07360459041807588\n",
      "AHMEDABAD -> 0.06421550354331967\n",
      "CHANDIGARH -> 0.030473461447243097\n",
      "GUWAHATI -> 0.024620896766087353\n",
      "HUBLI -> 0.021739130434782605\n",
      "Oct20\n",
      "Top 10 nodes\n",
      "DELHI -> 0.29523454272098704\n",
      "MUMBAI -> 0.18950214404938795\n",
      "BENGALURU -> 0.14275940843487187\n",
      "HYDERABAD -> 0.13338536271746587\n",
      "KOLKATA -> 0.10954154969201475\n",
      "CHENNAI -> 0.06721735252283305\n",
      "AHMEDABAD -> 0.059814748422261636\n",
      "GUWAHATI -> 0.030395182099597937\n",
      "CHANDIGARH -> 0.027554658945048244\n",
      "JAIPUR -> 0.024991892811483788\n"
     ]
    }
   ],
   "source": [
    "for i in range(len(graphs)):\n",
    "    print(lbls1[i])\n",
    "    G = graphs[i]\n",
    "    betweenness_dict = nx.betweenness_centrality(G)\n",
    "    nx.set_node_attributes(G, betweenness_dict, 'betweenness')\n",
    "    \n",
    "    sorted_betweenness = sorted(betweenness_dict.items(), key=itemgetter(1), reverse=True)\n",
    "\n",
    "#     sorted_betweenness = sorted(betweenness_dict.items(), key=itemgetter(1), reverse=True)\n",
    "\n",
    "    print(\"Top 10 nodes\")\n",
    "    \n",
    "    for i in range(len(sorted_betweenness[:10])):\n",
    "        print(sorted_betweenness[i][0] + \" -> \" + str(sorted_betweenness[i][1]))\n"
   ]
  },
  {
   "cell_type": "markdown",
   "metadata": {},
   "source": [
    "Degree Distribution"
   ]
  },
  {
   "cell_type": "code",
   "execution_count": 14,
   "metadata": {},
   "outputs": [
    {
     "name": "stdout",
     "output_type": "stream",
     "text": [
      "May15\n",
      "Top 10 nodes\n",
      "DELHI -> 107\n",
      "MUMBAI -> 92\n",
      "BENGALURU -> 76\n",
      "KOLKATA -> 66\n",
      "CHENNAI -> 60\n",
      "HYDERABAD -> 54\n",
      "AHMEDABAD -> 35\n",
      "GUWAHATI -> 32\n",
      "INDORE -> 27\n",
      "PUNE -> 27\n",
      "\n",
      "\n",
      "June15\n",
      "Top 10 nodes\n",
      "DELHI -> 107\n",
      "MUMBAI -> 92\n",
      "BENGALURU -> 80\n",
      "KOLKATA -> 65\n",
      "CHENNAI -> 60\n",
      "HYDERABAD -> 54\n",
      "AHMEDABAD -> 35\n",
      "GUWAHATI -> 34\n",
      "INDORE -> 28\n",
      "GOA -> 27\n",
      "\n",
      "\n",
      "July15\n",
      "Top 10 nodes\n",
      "DELHI -> 107\n",
      "MUMBAI -> 92\n",
      "BENGALURU -> 85\n",
      "KOLKATA -> 65\n",
      "CHENNAI -> 62\n",
      "HYDERABAD -> 61\n",
      "GUWAHATI -> 34\n",
      "AHMEDABAD -> 33\n",
      "INDORE -> 28\n",
      "PUNE -> 27\n",
      "\n",
      "\n",
      "Aug15\n",
      "Top 10 nodes\n",
      "DELHI -> 108\n",
      "MUMBAI -> 92\n",
      "BENGALURU -> 85\n",
      "KOLKATA -> 66\n",
      "HYDERABAD -> 61\n",
      "CHENNAI -> 60\n",
      "GUWAHATI -> 34\n",
      "AHMEDABAD -> 33\n",
      "INDORE -> 28\n",
      "PUNE -> 28\n",
      "\n",
      "\n",
      "Sep15\n",
      "Top 10 nodes\n",
      "DELHI -> 110\n",
      "MUMBAI -> 95\n",
      "BENGALURU -> 89\n",
      "KOLKATA -> 73\n",
      "HYDERABAD -> 61\n",
      "CHENNAI -> 60\n",
      "GUWAHATI -> 34\n",
      "AHMEDABAD -> 33\n",
      "GOA -> 29\n",
      "INDORE -> 28\n",
      "\n",
      "\n",
      "Oct15\n",
      "Top 10 nodes\n",
      "DELHI -> 112\n",
      "MUMBAI -> 94\n",
      "BENGALURU -> 87\n",
      "KOLKATA -> 72\n",
      "CHENNAI -> 62\n",
      "HYDERABAD -> 61\n",
      "AHMEDABAD -> 37\n",
      "GUWAHATI -> 34\n",
      "PUNE -> 30\n",
      "GOA -> 28\n",
      "\n",
      "\n",
      "Nov15\n",
      "Top 10 nodes\n",
      "DELHI -> 111\n",
      "MUMBAI -> 91\n",
      "BENGALURU -> 85\n",
      "KOLKATA -> 71\n",
      "CHENNAI -> 62\n",
      "HYDERABAD -> 62\n",
      "AHMEDABAD -> 37\n",
      "GUWAHATI -> 34\n",
      "PUNE -> 30\n",
      "INDORE -> 28\n",
      "\n",
      "\n",
      "Dec15\n",
      "Top 10 nodes\n",
      "DELHI -> 111\n",
      "MUMBAI -> 95\n",
      "BENGALURU -> 87\n",
      "KOLKATA -> 73\n",
      "HYDERABAD -> 64\n",
      "CHENNAI -> 63\n",
      "AHMEDABAD -> 37\n",
      "GUWAHATI -> 34\n",
      "PUNE -> 30\n",
      "INDORE -> 28\n",
      "\n",
      "\n",
      "Jan16\n",
      "Top 10 nodes\n",
      "DELHI -> 113\n",
      "MUMBAI -> 91\n",
      "BENGALURU -> 81\n",
      "KOLKATA -> 73\n",
      "CHENNAI -> 61\n",
      "HYDERABAD -> 59\n",
      "AHMEDABAD -> 37\n",
      "GUWAHATI -> 34\n",
      "PUNE -> 30\n",
      "INDORE -> 26\n",
      "\n",
      "\n",
      "Feb16\n",
      "Top 10 nodes\n",
      "DELHI -> 113\n",
      "MUMBAI -> 93\n",
      "BENGALURU -> 81\n",
      "KOLKATA -> 73\n",
      "CHENNAI -> 61\n",
      "HYDERABAD -> 60\n",
      "AHMEDABAD -> 37\n",
      "GUWAHATI -> 34\n",
      "PUNE -> 31\n",
      "INDORE -> 28\n",
      "\n",
      "\n",
      "March16\n",
      "Top 10 nodes\n",
      "DELHI -> 115\n",
      "MUMBAI -> 94\n",
      "BENGALURU -> 83\n",
      "KOLKATA -> 75\n",
      "CHENNAI -> 63\n",
      "HYDERABAD -> 63\n",
      "AHMEDABAD -> 38\n",
      "GUWAHATI -> 34\n",
      "PUNE -> 32\n",
      "INDORE -> 28\n",
      "\n",
      "\n",
      "April16\n",
      "Top 10 nodes\n",
      "DELHI -> 115\n",
      "MUMBAI -> 93\n",
      "BENGALURU -> 80\n",
      "KOLKATA -> 71\n",
      "CHENNAI -> 64\n",
      "HYDERABAD -> 64\n",
      "AHMEDABAD -> 33\n",
      "GOA -> 33\n",
      "GUWAHATI -> 33\n",
      "PUNE -> 32\n",
      "\n",
      "\n",
      "May16\n",
      "Top 10 nodes\n",
      "DELHI -> 115\n",
      "MUMBAI -> 93\n",
      "BENGALURU -> 80\n",
      "KOLKATA -> 69\n",
      "HYDERABAD -> 67\n",
      "CHENNAI -> 64\n",
      "GUWAHATI -> 33\n",
      "GOA -> 32\n",
      "PUNE -> 32\n",
      "AHMEDABAD -> 26\n",
      "\n",
      "\n",
      "June16\n",
      "Top 10 nodes\n",
      "DELHI -> 114\n",
      "MUMBAI -> 91\n",
      "BENGALURU -> 80\n",
      "KOLKATA -> 69\n",
      "CHENNAI -> 66\n",
      "HYDERABAD -> 66\n",
      "GUWAHATI -> 33\n",
      "GOA -> 32\n",
      "PUNE -> 32\n",
      "AHMEDABAD -> 26\n",
      "\n",
      "\n",
      "July16\n",
      "Top 10 nodes\n",
      "DELHI -> 112\n",
      "MUMBAI -> 91\n",
      "BENGALURU -> 78\n",
      "KOLKATA -> 67\n",
      "CHENNAI -> 66\n",
      "HYDERABAD -> 65\n",
      "GUWAHATI -> 33\n",
      "GOA -> 32\n",
      "PUNE -> 32\n",
      "AHMEDABAD -> 27\n",
      "\n",
      "\n",
      "Aug16\n",
      "Top 10 nodes\n",
      "DELHI -> 112\n",
      "MUMBAI -> 93\n",
      "BENGALURU -> 78\n",
      "KOLKATA -> 67\n",
      "HYDERABAD -> 66\n",
      "CHENNAI -> 64\n",
      "GUWAHATI -> 34\n",
      "PUNE -> 33\n",
      "GOA -> 32\n",
      "VISAKHAPATNAM -> 26\n",
      "\n",
      "\n",
      "Sep16\n",
      "Top 10 nodes\n",
      "DELHI -> 112\n",
      "MUMBAI -> 93\n",
      "BENGALURU -> 80\n",
      "KOLKATA -> 69\n",
      "HYDERABAD -> 68\n",
      "CHENNAI -> 62\n",
      "GUWAHATI -> 34\n",
      "GOA -> 32\n",
      "PUNE -> 32\n",
      "VISAKHAPATNAM -> 26\n",
      "\n",
      "\n",
      "Oct16\n",
      "Top 10 nodes\n",
      "DELHI -> 113\n",
      "MUMBAI -> 94\n",
      "BENGALURU -> 82\n",
      "KOLKATA -> 73\n",
      "HYDERABAD -> 68\n",
      "CHENNAI -> 62\n",
      "GOA -> 33\n",
      "GUWAHATI -> 33\n",
      "PUNE -> 31\n",
      "AHMEDABAD -> 27\n",
      "\n",
      "\n",
      "Nov16\n",
      "Top 10 nodes\n",
      "DELHI -> 113\n",
      "MUMBAI -> 94\n",
      "BENGALURU -> 82\n",
      "KOLKATA -> 74\n",
      "HYDERABAD -> 67\n",
      "CHENNAI -> 64\n",
      "GUWAHATI -> 38\n",
      "PUNE -> 32\n",
      "GOA -> 31\n",
      "AHMEDABAD -> 29\n",
      "\n",
      "\n",
      "Dec16\n",
      "Top 10 nodes\n",
      "DELHI -> 115\n",
      "MUMBAI -> 94\n",
      "BENGALURU -> 82\n",
      "KOLKATA -> 70\n",
      "HYDERABAD -> 66\n",
      "CHENNAI -> 63\n",
      "GUWAHATI -> 38\n",
      "AHMEDABAD -> 31\n",
      "PUNE -> 31\n",
      "GOA -> 27\n",
      "\n",
      "\n",
      "Jan17\n",
      "Top 10 nodes\n",
      "DELHI -> 115\n",
      "MUMBAI -> 94\n",
      "BENGALURU -> 81\n",
      "KOLKATA -> 69\n",
      "HYDERABAD -> 65\n",
      "CHENNAI -> 60\n",
      "GUWAHATI -> 38\n",
      "PUNE -> 33\n",
      "AHMEDABAD -> 31\n",
      "GOA -> 27\n"
     ]
    },
    {
     "name": "stderr",
     "output_type": "stream",
     "text": [
      "c:\\users\\juhi pandey\\appdata\\local\\programs\\python\\python37-32\\lib\\site-packages\\ipykernel_launcher.py:13: RuntimeWarning: More than 20 figures have been opened. Figures created through the pyplot interface (`matplotlib.pyplot.figure`) are retained until explicitly closed and may consume too much memory. (To control this warning, see the rcParam `figure.max_open_warning`).\n",
      "  del sys.path[0]\n"
     ]
    },
    {
     "name": "stdout",
     "output_type": "stream",
     "text": [
      "\n",
      "\n",
      "Feb17\n",
      "Top 10 nodes\n",
      "DELHI -> 119\n",
      "MUMBAI -> 94\n",
      "BENGALURU -> 83\n",
      "KOLKATA -> 72\n",
      "HYDERABAD -> 67\n",
      "CHENNAI -> 62\n",
      "GUWAHATI -> 41\n",
      "PUNE -> 34\n",
      "AHMEDABAD -> 33\n",
      "GOA -> 30\n",
      "\n",
      "\n",
      "March17\n",
      "Top 10 nodes\n",
      "DELHI -> 121\n",
      "MUMBAI -> 94\n",
      "BENGALURU -> 82\n",
      "KOLKATA -> 74\n",
      "HYDERABAD -> 67\n",
      "CHENNAI -> 61\n",
      "GUWAHATI -> 41\n",
      "AHMEDABAD -> 36\n",
      "GOA -> 34\n",
      "PUNE -> 34\n",
      "\n",
      "\n",
      "April17\n",
      "Top 10 nodes\n",
      "DELHI -> 120\n",
      "MUMBAI -> 91\n",
      "BENGALURU -> 77\n",
      "KOLKATA -> 76\n",
      "HYDERABAD -> 69\n",
      "CHENNAI -> 61\n",
      "GUWAHATI -> 39\n",
      "AHMEDABAD -> 36\n",
      "PUNE -> 31\n",
      "JAIPUR -> 30\n",
      "\n",
      "\n",
      "May17\n",
      "Top 10 nodes\n",
      "DELHI -> 120\n",
      "MUMBAI -> 93\n",
      "BENGALURU -> 82\n",
      "KOLKATA -> 76\n",
      "HYDERABAD -> 70\n",
      "CHENNAI -> 60\n",
      "GUWAHATI -> 39\n",
      "AHMEDABAD -> 35\n",
      "PUNE -> 31\n",
      "GOA -> 27\n",
      "\n",
      "\n",
      "June17\n",
      "Top 10 nodes\n",
      "DELHI -> 122\n",
      "MUMBAI -> 91\n",
      "BENGALURU -> 84\n",
      "HYDERABAD -> 75\n",
      "KOLKATA -> 75\n",
      "CHENNAI -> 62\n",
      "GUWAHATI -> 40\n",
      "AHMEDABAD -> 38\n",
      "PUNE -> 34\n",
      "GOA -> 33\n",
      "\n",
      "\n",
      "July17\n",
      "Top 10 nodes\n",
      "DELHI -> 122\n",
      "MUMBAI -> 97\n",
      "BENGALURU -> 80\n",
      "HYDERABAD -> 75\n",
      "KOLKATA -> 74\n",
      "CHENNAI -> 63\n",
      "GUWAHATI -> 40\n",
      "AHMEDABAD -> 38\n",
      "JAIPUR -> 35\n",
      "GOA -> 34\n",
      "\n",
      "\n",
      "Aug17\n",
      "Top 10 nodes\n",
      "DELHI -> 119\n",
      "MUMBAI -> 97\n",
      "BENGALURU -> 81\n",
      "HYDERABAD -> 77\n",
      "KOLKATA -> 72\n",
      "CHENNAI -> 63\n",
      "AHMEDABAD -> 39\n",
      "GUWAHATI -> 39\n",
      "JAIPUR -> 35\n",
      "LUCKNOW -> 34\n",
      "\n",
      "\n",
      "Sep17\n",
      "Top 10 nodes\n",
      "DELHI -> 124\n",
      "MUMBAI -> 97\n",
      "BENGALURU -> 82\n",
      "HYDERABAD -> 78\n",
      "KOLKATA -> 74\n",
      "CHENNAI -> 65\n",
      "GUWAHATI -> 41\n",
      "AHMEDABAD -> 40\n",
      "PUNE -> 38\n",
      "JAIPUR -> 35\n",
      "\n",
      "\n",
      "Oct17\n",
      "Top 10 nodes\n",
      "DELHI -> 129\n",
      "MUMBAI -> 100\n",
      "HYDERABAD -> 82\n",
      "KOLKATA -> 81\n",
      "BENGALURU -> 79\n",
      "CHENNAI -> 71\n",
      "GUWAHATI -> 43\n",
      "JAIPUR -> 43\n",
      "AHMEDABAD -> 40\n",
      "PUNE -> 38\n",
      "\n",
      "\n",
      "Nov17\n",
      "Top 10 nodes\n",
      "DELHI -> 129\n",
      "MUMBAI -> 102\n",
      "HYDERABAD -> 83\n",
      "BENGALURU -> 79\n",
      "KOLKATA -> 78\n",
      "CHENNAI -> 72\n",
      "GUWAHATI -> 42\n",
      "AHMEDABAD -> 40\n",
      "JAIPUR -> 40\n",
      "PUNE -> 39\n",
      "\n",
      "\n",
      "Dec17\n",
      "Top 10 nodes\n",
      "DELHI -> 127\n",
      "MUMBAI -> 110\n",
      "HYDERABAD -> 85\n",
      "BENGALURU -> 79\n",
      "KOLKATA -> 78\n",
      "CHENNAI -> 75\n",
      "JAIPUR -> 43\n",
      "GUWAHATI -> 43\n",
      "PUNE -> 42\n",
      "AHMEDABAD -> 42\n",
      "\n",
      "\n",
      "Jan18\n",
      "Top 10 nodes\n",
      "DELHI -> 127\n",
      "MUMBAI -> 110\n",
      "HYDERABAD -> 87\n",
      "BENGALURU -> 83\n",
      "KOLKATA -> 78\n",
      "CHENNAI -> 76\n",
      "JAIPUR -> 48\n",
      "GUWAHATI -> 43\n",
      "AHMEDABAD -> 42\n",
      "PUNE -> 40\n",
      "\n",
      "\n",
      "Feb18\n",
      "Top 10 nodes\n",
      "DELHI -> 130\n",
      "MUMBAI -> 110\n",
      "BENGALURU -> 87\n",
      "HYDERABAD -> 87\n",
      "CHENNAI -> 82\n",
      "KOLKATA -> 79\n",
      "JAIPUR -> 46\n",
      "AHMEDABAD -> 46\n",
      "GUWAHATI -> 43\n",
      "PUNE -> 42\n",
      "\n",
      "\n",
      "March18\n",
      "Top 10 nodes\n",
      "DELHI -> 131\n",
      "MUMBAI -> 117\n",
      "BENGALURU -> 89\n",
      "HYDERABAD -> 87\n",
      "CHENNAI -> 84\n",
      "KOLKATA -> 81\n",
      "PUNE -> 48\n",
      "GUWAHATI -> 45\n",
      "LUCKNOW -> 43\n",
      "JAIPUR -> 41\n",
      "\n",
      "\n",
      "April18\n",
      "Top 10 nodes\n",
      "DELHI -> 135\n",
      "MUMBAI -> 115\n",
      "HYDERABAD -> 88\n",
      "BENGALURU -> 82\n",
      "CHENNAI -> 77\n",
      "KOLKATA -> 77\n",
      "AHMEDABAD -> 43\n",
      "PUNE -> 42\n",
      "JAIPUR -> 40\n",
      "GOA -> 39\n",
      "\n",
      "\n",
      "May18\n",
      "Top 10 nodes\n",
      "DELHI -> 137\n",
      "MUMBAI -> 117\n",
      "HYDERABAD -> 93\n",
      "BENGALURU -> 84\n",
      "KOLKATA -> 81\n",
      "CHENNAI -> 78\n",
      "AHMEDABAD -> 45\n",
      "JAIPUR -> 43\n",
      "PUNE -> 42\n",
      "GUWAHATI -> 41\n",
      "\n",
      "\n",
      "June18\n",
      "Top 10 nodes\n",
      "DELHI -> 137\n",
      "MUMBAI -> 116\n",
      "HYDERABAD -> 91\n",
      "BENGALURU -> 89\n",
      "KOLKATA -> 80\n",
      "CHENNAI -> 76\n",
      "JAIPUR -> 43\n",
      "AHMEDABAD -> 42\n",
      "PUNE -> 42\n",
      "GUWAHATI -> 41\n",
      "\n",
      "\n",
      "July18\n",
      "Top 10 nodes\n",
      "DELHI -> 137\n",
      "MUMBAI -> 116\n",
      "HYDERABAD -> 90\n",
      "BENGALURU -> 88\n",
      "KOLKATA -> 79\n",
      "CHENNAI -> 76\n",
      "JAIPUR -> 45\n",
      "GOA -> 43\n",
      "PUNE -> 42\n",
      "AHMEDABAD -> 41\n",
      "\n",
      "\n",
      "Aug18\n",
      "Top 10 nodes\n",
      "DELHI -> 137\n",
      "MUMBAI -> 116\n",
      "HYDERABAD -> 89\n",
      "BENGALURU -> 88\n",
      "KOLKATA -> 80\n",
      "CHENNAI -> 76\n",
      "JAIPUR -> 46\n",
      "PUNE -> 45\n",
      "AHMEDABAD -> 44\n",
      "GOA -> 43\n",
      "\n",
      "\n",
      "Sep18\n",
      "Top 10 nodes\n",
      "DELHI -> 137\n",
      "MUMBAI -> 116\n",
      "HYDERABAD -> 93\n",
      "BENGALURU -> 92\n",
      "KOLKATA -> 80\n",
      "CHENNAI -> 76\n",
      "AHMEDABAD -> 48\n",
      "JAIPUR -> 46\n",
      "PUNE -> 43\n",
      "GOA -> 43\n",
      "\n",
      "\n",
      "Oct18\n",
      "Top 10 nodes\n",
      "DELHI -> 142\n",
      "MUMBAI -> 114\n",
      "BENGALURU -> 98\n",
      "HYDERABAD -> 94\n",
      "KOLKATA -> 83\n",
      "CHENNAI -> 79\n",
      "AHMEDABAD -> 56\n",
      "JAIPUR -> 47\n",
      "GUWAHATI -> 47\n",
      "PUNE -> 44\n",
      "\n",
      "\n",
      "Nov18\n",
      "Top 10 nodes\n",
      "DELHI -> 142\n",
      "MUMBAI -> 112\n",
      "BENGALURU -> 96\n",
      "HYDERABAD -> 93\n",
      "CHENNAI -> 80\n",
      "KOLKATA -> 78\n",
      "AHMEDABAD -> 51\n",
      "GUWAHATI -> 49\n",
      "JAIPUR -> 45\n",
      "KOCHI -> 44\n",
      "\n",
      "\n",
      "Dec18\n",
      "Top 10 nodes\n",
      "DELHI -> 143\n",
      "MUMBAI -> 112\n",
      "BENGALURU -> 100\n",
      "HYDERABAD -> 96\n",
      "CHENNAI -> 82\n",
      "KOLKATA -> 79\n",
      "AHMEDABAD -> 57\n",
      "GUWAHATI -> 51\n",
      "KOCHI -> 49\n",
      "JAIPUR -> 45\n",
      "\n",
      "\n",
      "Jan19\n",
      "Top 10 nodes\n",
      "DELHI -> 143\n",
      "MUMBAI -> 115\n",
      "BENGALURU -> 108\n",
      "HYDERABAD -> 98\n",
      "KOLKATA -> 87\n",
      "CHENNAI -> 83\n",
      "AHMEDABAD -> 64\n",
      "GUWAHATI -> 54\n",
      "JAIPUR -> 53\n",
      "KOCHI -> 50\n",
      "\n",
      "\n",
      "Feb19\n",
      "Top 10 nodes\n",
      "DELHI -> 142\n",
      "MUMBAI -> 112\n",
      "BENGALURU -> 106\n",
      "HYDERABAD -> 99\n",
      "KOLKATA -> 85\n",
      "CHENNAI -> 83\n",
      "AHMEDABAD -> 68\n",
      "JAIPUR -> 54\n",
      "GUWAHATI -> 54\n",
      "KOCHI -> 48\n",
      "\n",
      "\n",
      "March19\n",
      "Top 10 nodes\n",
      "DELHI -> 142\n",
      "MUMBAI -> 110\n",
      "BENGALURU -> 106\n",
      "HYDERABAD -> 101\n",
      "KOLKATA -> 89\n",
      "CHENNAI -> 81\n",
      "AHMEDABAD -> 67\n",
      "JAIPUR -> 58\n",
      "KOCHI -> 52\n",
      "GUWAHATI -> 49\n",
      "\n",
      "\n",
      "April19\n",
      "Top 10 nodes\n",
      "DELHI -> 140\n",
      "MUMBAI -> 108\n",
      "HYDERABAD -> 105\n",
      "BENGALURU -> 102\n",
      "KOLKATA -> 88\n",
      "CHENNAI -> 82\n",
      "AHMEDABAD -> 60\n",
      "JAIPUR -> 51\n",
      "KOCHI -> 49\n",
      "GUWAHATI -> 43\n",
      "\n",
      "\n",
      "May19\n",
      "Top 10 nodes\n",
      "DELHI -> 139\n",
      "HYDERABAD -> 110\n",
      "MUMBAI -> 109\n",
      "BENGALURU -> 102\n",
      "KOLKATA -> 86\n",
      "CHENNAI -> 83\n",
      "AHMEDABAD -> 64\n",
      "JAIPUR -> 49\n",
      "KOCHI -> 47\n",
      "GUWAHATI -> 41\n",
      "\n",
      "\n",
      "June19\n",
      "Top 10 nodes\n",
      "DELHI -> 138\n",
      "MUMBAI -> 113\n",
      "HYDERABAD -> 107\n",
      "BENGALURU -> 106\n",
      "KOLKATA -> 87\n",
      "CHENNAI -> 83\n",
      "AHMEDABAD -> 62\n",
      "JAIPUR -> 48\n",
      "KOCHI -> 47\n",
      "GUWAHATI -> 41\n",
      "\n",
      "\n",
      "July19\n",
      "Top 10 nodes\n",
      "DELHI -> 137\n",
      "MUMBAI -> 113\n",
      "HYDERABAD -> 106\n",
      "BENGALURU -> 104\n",
      "KOLKATA -> 87\n",
      "CHENNAI -> 83\n",
      "AHMEDABAD -> 64\n",
      "JAIPUR -> 46\n",
      "GUWAHATI -> 41\n",
      "KOCHI -> 41\n",
      "\n",
      "\n",
      "Aug19\n",
      "Top 10 nodes\n",
      "DELHI -> 139\n",
      "MUMBAI -> 114\n",
      "BENGALURU -> 104\n",
      "HYDERABAD -> 98\n",
      "KOLKATA -> 87\n",
      "CHENNAI -> 81\n",
      "AHMEDABAD -> 58\n",
      "JAIPUR -> 46\n",
      "KOCHI -> 42\n",
      "DABOLIM -> 42\n",
      "\n",
      "\n",
      "Sep19\n",
      "Top 10 nodes\n",
      "DELHI -> 139\n",
      "MUMBAI -> 118\n",
      "BENGALURU -> 107\n",
      "HYDERABAD -> 103\n",
      "KOLKATA -> 92\n",
      "CHENNAI -> 81\n",
      "AHMEDABAD -> 71\n",
      "JAIPUR -> 46\n",
      "KOCHI -> 42\n",
      "DABOLIM -> 42\n",
      "\n",
      "\n",
      "Oct19\n",
      "Top 10 nodes\n",
      "DELHI -> 143\n",
      "MUMBAI -> 123\n",
      "BENGALURU -> 110\n",
      "HYDERABAD -> 110\n",
      "KOLKATA -> 96\n",
      "CHENNAI -> 87\n",
      "AHMEDABAD -> 74\n",
      "DABOLIM -> 45\n",
      "KOCHI -> 44\n",
      "JAIPUR -> 44\n",
      "\n",
      "\n",
      "Nov19\n",
      "Top 10 nodes\n",
      "DELHI -> 142\n",
      "MUMBAI -> 121\n",
      "BENGALURU -> 114\n",
      "HYDERABAD -> 112\n",
      "KOLKATA -> 98\n",
      "CHENNAI -> 87\n",
      "AHMEDABAD -> 68\n",
      "GUWAHATI -> 42\n",
      "DABOLIM -> 42\n",
      "JAIPUR -> 41\n",
      "\n",
      "\n",
      "Dec19\n",
      "Top 10 nodes\n",
      "DELHI -> 142\n",
      "MUMBAI -> 121\n",
      "BENGALURU -> 113\n",
      "HYDERABAD -> 112\n",
      "KOLKATA -> 98\n",
      "CHENNAI -> 87\n",
      "AHMEDABAD -> 75\n",
      "GUWAHATI -> 44\n",
      "JAIPUR -> 43\n",
      "DABOLIM -> 42\n",
      "\n",
      "\n",
      "Jan20\n",
      "Top 10 nodes\n",
      "DELHI -> 142\n",
      "MUMBAI -> 121\n",
      "BENGALURU -> 113\n",
      "HYDERABAD -> 112\n",
      "KOLKATA -> 92\n",
      "CHENNAI -> 88\n",
      "AHMEDABAD -> 81\n",
      "GUWAHATI -> 44\n",
      "DABOLIM -> 42\n",
      "PUNE -> 41\n",
      "\n",
      "\n",
      "Feb20\n",
      "Top 10 nodes\n",
      "DELHI -> 142\n",
      "MUMBAI -> 123\n",
      "BENGALURU -> 115\n",
      "HYDERABAD -> 112\n",
      "KOLKATA -> 90\n",
      "CHENNAI -> 84\n",
      "AHMEDABAD -> 77\n",
      "DABOLIM -> 46\n",
      "GUWAHATI -> 44\n",
      "PUNE -> 44\n",
      "\n",
      "\n",
      "March20\n",
      "Top 10 nodes\n",
      "DELHI -> 140\n",
      "MUMBAI -> 120\n",
      "BENGALURU -> 115\n",
      "HYDERABAD -> 111\n",
      "KOLKATA -> 89\n",
      "CHENNAI -> 84\n",
      "AHMEDABAD -> 79\n",
      "GUWAHATI -> 49\n",
      "DABOLIM -> 45\n",
      "PUNE -> 44\n",
      "\n",
      "\n",
      "April20\n",
      "Top 10 nodes\n",
      "BENGALURU -> 0\n",
      "CHENNAI -> 0\n",
      "DELHI -> 0\n",
      "MUMBAI -> 0\n",
      "HYDERABAD -> 0\n",
      "KOLKATA -> 0\n",
      "\n",
      "\n",
      "May20\n",
      "Top 10 nodes\n",
      "DELHI -> 100\n",
      "BENGALURU -> 81\n",
      "HYDERABAD -> 58\n",
      "MUMBAI -> 49\n",
      "CHENNAI -> 43\n",
      "AHMEDABAD -> 29\n",
      "KOLKATA -> 25\n",
      "GUWAHATI -> 16\n",
      "KOCHI -> 16\n",
      "VARANASI -> 14\n",
      "\n",
      "\n",
      "June20\n",
      "Top 10 nodes\n",
      "DELHI -> 107\n",
      "HYDERABAD -> 89\n",
      "BENGALURU -> 81\n",
      "MUMBAI -> 74\n",
      "KOLKATA -> 68\n",
      "CHENNAI -> 43\n",
      "AHMEDABAD -> 42\n",
      "GUWAHATI -> 30\n",
      "PUNE -> 25\n",
      "JAIPUR -> 24\n",
      "\n",
      "\n",
      "July20\n",
      "Top 10 nodes\n",
      "DELHI -> 115\n",
      "HYDERABAD -> 101\n",
      "BENGALURU -> 90\n",
      "MUMBAI -> 90\n",
      "KOLKATA -> 70\n",
      "AHMEDABAD -> 52\n",
      "CHENNAI -> 43\n",
      "PUNE -> 27\n",
      "GUWAHATI -> 26\n",
      "JAIPUR -> 22\n",
      "\n",
      "\n",
      "Aug20\n",
      "Top 10 nodes\n",
      "DELHI -> 116\n",
      "BENGALURU -> 104\n",
      "HYDERABAD -> 104\n",
      "MUMBAI -> 83\n",
      "KOLKATA -> 62\n",
      "CHENNAI -> 54\n",
      "AHMEDABAD -> 48\n",
      "GUWAHATI -> 36\n",
      "JAIPUR -> 35\n",
      "LUCKNOW -> 34\n",
      "\n",
      "\n",
      "Sep20\n",
      "Top 10 nodes\n",
      "DELHI -> 120\n",
      "MUMBAI -> 107\n",
      "BENGALURU -> 106\n",
      "HYDERABAD -> 106\n",
      "KOLKATA -> 81\n",
      "CHENNAI -> 72\n",
      "AHMEDABAD -> 62\n",
      "GUWAHATI -> 38\n",
      "LUCKNOW -> 35\n",
      "PUNE -> 34\n",
      "\n",
      "\n",
      "Oct20\n",
      "Top 10 nodes\n",
      "DELHI -> 132\n",
      "MUMBAI -> 110\n",
      "HYDERABAD -> 105\n",
      "BENGALURU -> 104\n",
      "KOLKATA -> 86\n",
      "CHENNAI -> 74\n",
      "AHMEDABAD -> 67\n",
      "JAIPUR -> 42\n",
      "GUWAHATI -> 40\n",
      "LUCKNOW -> 35\n",
      "\n",
      "\n"
     ]
    },
    {
     "data": {
      "text/plain": [
       "<Figure size 1080x360 with 0 Axes>"
      ]
     },
     "metadata": {},
     "output_type": "display_data"
    },
    {
     "data": {
      "text/plain": [
       "<Figure size 1080x360 with 0 Axes>"
      ]
     },
     "metadata": {},
     "output_type": "display_data"
    },
    {
     "data": {
      "text/plain": [
       "<Figure size 1080x360 with 0 Axes>"
      ]
     },
     "metadata": {},
     "output_type": "display_data"
    },
    {
     "data": {
      "text/plain": [
       "<Figure size 1080x360 with 0 Axes>"
      ]
     },
     "metadata": {},
     "output_type": "display_data"
    },
    {
     "data": {
      "text/plain": [
       "<Figure size 1080x360 with 0 Axes>"
      ]
     },
     "metadata": {},
     "output_type": "display_data"
    },
    {
     "data": {
      "text/plain": [
       "<Figure size 1080x360 with 0 Axes>"
      ]
     },
     "metadata": {},
     "output_type": "display_data"
    },
    {
     "data": {
      "text/plain": [
       "<Figure size 1080x360 with 0 Axes>"
      ]
     },
     "metadata": {},
     "output_type": "display_data"
    },
    {
     "data": {
      "text/plain": [
       "<Figure size 1080x360 with 0 Axes>"
      ]
     },
     "metadata": {},
     "output_type": "display_data"
    },
    {
     "data": {
      "text/plain": [
       "<Figure size 1080x360 with 0 Axes>"
      ]
     },
     "metadata": {},
     "output_type": "display_data"
    },
    {
     "data": {
      "text/plain": [
       "<Figure size 1080x360 with 0 Axes>"
      ]
     },
     "metadata": {},
     "output_type": "display_data"
    },
    {
     "data": {
      "text/plain": [
       "<Figure size 1080x360 with 0 Axes>"
      ]
     },
     "metadata": {},
     "output_type": "display_data"
    },
    {
     "data": {
      "text/plain": [
       "<Figure size 1080x360 with 0 Axes>"
      ]
     },
     "metadata": {},
     "output_type": "display_data"
    },
    {
     "data": {
      "text/plain": [
       "<Figure size 1080x360 with 0 Axes>"
      ]
     },
     "metadata": {},
     "output_type": "display_data"
    },
    {
     "data": {
      "text/plain": [
       "<Figure size 1080x360 with 0 Axes>"
      ]
     },
     "metadata": {},
     "output_type": "display_data"
    },
    {
     "data": {
      "text/plain": [
       "<Figure size 1080x360 with 0 Axes>"
      ]
     },
     "metadata": {},
     "output_type": "display_data"
    },
    {
     "data": {
      "text/plain": [
       "<Figure size 1080x360 with 0 Axes>"
      ]
     },
     "metadata": {},
     "output_type": "display_data"
    },
    {
     "data": {
      "text/plain": [
       "<Figure size 1080x360 with 0 Axes>"
      ]
     },
     "metadata": {},
     "output_type": "display_data"
    },
    {
     "data": {
      "text/plain": [
       "<Figure size 1080x360 with 0 Axes>"
      ]
     },
     "metadata": {},
     "output_type": "display_data"
    },
    {
     "data": {
      "text/plain": [
       "<Figure size 1080x360 with 0 Axes>"
      ]
     },
     "metadata": {},
     "output_type": "display_data"
    },
    {
     "data": {
      "text/plain": [
       "<Figure size 1080x360 with 0 Axes>"
      ]
     },
     "metadata": {},
     "output_type": "display_data"
    },
    {
     "data": {
      "text/plain": [
       "<Figure size 1080x360 with 0 Axes>"
      ]
     },
     "metadata": {},
     "output_type": "display_data"
    },
    {
     "data": {
      "text/plain": [
       "<Figure size 1080x360 with 0 Axes>"
      ]
     },
     "metadata": {},
     "output_type": "display_data"
    },
    {
     "data": {
      "text/plain": [
       "<Figure size 1080x360 with 0 Axes>"
      ]
     },
     "metadata": {},
     "output_type": "display_data"
    },
    {
     "data": {
      "text/plain": [
       "<Figure size 1080x360 with 0 Axes>"
      ]
     },
     "metadata": {},
     "output_type": "display_data"
    },
    {
     "data": {
      "text/plain": [
       "<Figure size 1080x360 with 0 Axes>"
      ]
     },
     "metadata": {},
     "output_type": "display_data"
    },
    {
     "data": {
      "text/plain": [
       "<Figure size 1080x360 with 0 Axes>"
      ]
     },
     "metadata": {},
     "output_type": "display_data"
    },
    {
     "data": {
      "text/plain": [
       "<Figure size 1080x360 with 0 Axes>"
      ]
     },
     "metadata": {},
     "output_type": "display_data"
    },
    {
     "data": {
      "text/plain": [
       "<Figure size 1080x360 with 0 Axes>"
      ]
     },
     "metadata": {},
     "output_type": "display_data"
    },
    {
     "data": {
      "text/plain": [
       "<Figure size 1080x360 with 0 Axes>"
      ]
     },
     "metadata": {},
     "output_type": "display_data"
    },
    {
     "data": {
      "text/plain": [
       "<Figure size 1080x360 with 0 Axes>"
      ]
     },
     "metadata": {},
     "output_type": "display_data"
    },
    {
     "data": {
      "text/plain": [
       "<Figure size 1080x360 with 0 Axes>"
      ]
     },
     "metadata": {},
     "output_type": "display_data"
    },
    {
     "data": {
      "text/plain": [
       "<Figure size 1080x360 with 0 Axes>"
      ]
     },
     "metadata": {},
     "output_type": "display_data"
    },
    {
     "data": {
      "text/plain": [
       "<Figure size 1080x360 with 0 Axes>"
      ]
     },
     "metadata": {},
     "output_type": "display_data"
    },
    {
     "data": {
      "text/plain": [
       "<Figure size 1080x360 with 0 Axes>"
      ]
     },
     "metadata": {},
     "output_type": "display_data"
    },
    {
     "data": {
      "text/plain": [
       "<Figure size 1080x360 with 0 Axes>"
      ]
     },
     "metadata": {},
     "output_type": "display_data"
    },
    {
     "data": {
      "text/plain": [
       "<Figure size 1080x360 with 0 Axes>"
      ]
     },
     "metadata": {},
     "output_type": "display_data"
    },
    {
     "data": {
      "text/plain": [
       "<Figure size 1080x360 with 0 Axes>"
      ]
     },
     "metadata": {},
     "output_type": "display_data"
    },
    {
     "data": {
      "text/plain": [
       "<Figure size 1080x360 with 0 Axes>"
      ]
     },
     "metadata": {},
     "output_type": "display_data"
    },
    {
     "data": {
      "text/plain": [
       "<Figure size 1080x360 with 0 Axes>"
      ]
     },
     "metadata": {},
     "output_type": "display_data"
    },
    {
     "data": {
      "text/plain": [
       "<Figure size 1080x360 with 0 Axes>"
      ]
     },
     "metadata": {},
     "output_type": "display_data"
    },
    {
     "data": {
      "text/plain": [
       "<Figure size 1080x360 with 0 Axes>"
      ]
     },
     "metadata": {},
     "output_type": "display_data"
    },
    {
     "data": {
      "text/plain": [
       "<Figure size 1080x360 with 0 Axes>"
      ]
     },
     "metadata": {},
     "output_type": "display_data"
    },
    {
     "data": {
      "text/plain": [
       "<Figure size 1080x360 with 0 Axes>"
      ]
     },
     "metadata": {},
     "output_type": "display_data"
    },
    {
     "data": {
      "text/plain": [
       "<Figure size 1080x360 with 0 Axes>"
      ]
     },
     "metadata": {},
     "output_type": "display_data"
    },
    {
     "data": {
      "text/plain": [
       "<Figure size 1080x360 with 0 Axes>"
      ]
     },
     "metadata": {},
     "output_type": "display_data"
    },
    {
     "data": {
      "text/plain": [
       "<Figure size 1080x360 with 0 Axes>"
      ]
     },
     "metadata": {},
     "output_type": "display_data"
    },
    {
     "data": {
      "text/plain": [
       "<Figure size 1080x360 with 0 Axes>"
      ]
     },
     "metadata": {},
     "output_type": "display_data"
    },
    {
     "data": {
      "text/plain": [
       "<Figure size 1080x360 with 0 Axes>"
      ]
     },
     "metadata": {},
     "output_type": "display_data"
    },
    {
     "data": {
      "text/plain": [
       "<Figure size 1080x360 with 0 Axes>"
      ]
     },
     "metadata": {},
     "output_type": "display_data"
    },
    {
     "data": {
      "text/plain": [
       "<Figure size 1080x360 with 0 Axes>"
      ]
     },
     "metadata": {},
     "output_type": "display_data"
    },
    {
     "data": {
      "text/plain": [
       "<Figure size 1080x360 with 0 Axes>"
      ]
     },
     "metadata": {},
     "output_type": "display_data"
    },
    {
     "data": {
      "text/plain": [
       "<Figure size 1080x360 with 0 Axes>"
      ]
     },
     "metadata": {},
     "output_type": "display_data"
    },
    {
     "data": {
      "text/plain": [
       "<Figure size 1080x360 with 0 Axes>"
      ]
     },
     "metadata": {},
     "output_type": "display_data"
    },
    {
     "data": {
      "text/plain": [
       "<Figure size 1080x360 with 0 Axes>"
      ]
     },
     "metadata": {},
     "output_type": "display_data"
    },
    {
     "data": {
      "text/plain": [
       "<Figure size 1080x360 with 0 Axes>"
      ]
     },
     "metadata": {},
     "output_type": "display_data"
    },
    {
     "data": {
      "text/plain": [
       "<Figure size 1080x360 with 0 Axes>"
      ]
     },
     "metadata": {},
     "output_type": "display_data"
    },
    {
     "data": {
      "text/plain": [
       "<Figure size 1080x360 with 0 Axes>"
      ]
     },
     "metadata": {},
     "output_type": "display_data"
    },
    {
     "data": {
      "text/plain": [
       "<Figure size 1080x360 with 0 Axes>"
      ]
     },
     "metadata": {},
     "output_type": "display_data"
    },
    {
     "data": {
      "text/plain": [
       "<Figure size 1080x360 with 0 Axes>"
      ]
     },
     "metadata": {},
     "output_type": "display_data"
    },
    {
     "data": {
      "text/plain": [
       "<Figure size 1080x360 with 0 Axes>"
      ]
     },
     "metadata": {},
     "output_type": "display_data"
    },
    {
     "data": {
      "text/plain": [
       "<Figure size 1080x360 with 0 Axes>"
      ]
     },
     "metadata": {},
     "output_type": "display_data"
    },
    {
     "data": {
      "text/plain": [
       "<Figure size 1080x360 with 0 Axes>"
      ]
     },
     "metadata": {},
     "output_type": "display_data"
    },
    {
     "data": {
      "text/plain": [
       "<Figure size 1080x360 with 0 Axes>"
      ]
     },
     "metadata": {},
     "output_type": "display_data"
    },
    {
     "data": {
      "text/plain": [
       "<Figure size 1080x360 with 0 Axes>"
      ]
     },
     "metadata": {},
     "output_type": "display_data"
    },
    {
     "data": {
      "text/plain": [
       "<Figure size 1080x360 with 0 Axes>"
      ]
     },
     "metadata": {},
     "output_type": "display_data"
    },
    {
     "data": {
      "text/plain": [
       "<Figure size 1080x360 with 0 Axes>"
      ]
     },
     "metadata": {},
     "output_type": "display_data"
    }
   ],
   "source": [
    "for i in range(len(graphs)):\n",
    "    print(lbls1[i])\n",
    "    G = graphs[i]\n",
    "    degree_dict = dict(G.degree(G.nodes()))\n",
    "    nx.set_node_attributes(G, degree_dict, 'degree')\n",
    "\n",
    "    sorted_degree = sorted(degree_dict.items(), key=itemgetter(1), reverse=True)\n",
    "\n",
    "    print(\"Top 10 nodes\")\n",
    "    for z in range(len(sorted_degree[:10])):\n",
    "        print(sorted_degree[z][0] + \" -> \" + str(sorted_degree[z][1]))\n",
    "    \n",
    "    plt.figure(figsize = (15, 5))\n",
    "    plt.plot([x[0] for x in sorted_degree], [y[1] for y in sorted_degree])\n",
    "    plt.title(\"Degree distribution for \" + lbls1[i])\n",
    "    plt.tick_params(axis=\"both\", which=\"major\", labelsize=2)\n",
    "    plt.savefig('Output_Files/matplotlib/Degree/ ' + lbls1[i])\n",
    "    plt.clf()\n",
    "\n",
    "    print(\"\\n\")\n",
    "    \n",
    "    \n",
    "    # TODO: fix label resolution\n",
    "    \n",
    "    \n",
    "    "
   ]
  },
  {
   "cell_type": "code",
   "execution_count": null,
   "metadata": {},
   "outputs": [],
   "source": []
  }
 ],
 "metadata": {
  "kernelspec": {
   "display_name": "Python 3",
   "language": "python",
   "name": "python3"
  },
  "language_info": {
   "codemirror_mode": {
    "name": "ipython",
    "version": 3
   },
   "file_extension": ".py",
   "mimetype": "text/x-python",
   "name": "python",
   "nbconvert_exporter": "python",
   "pygments_lexer": "ipython3",
   "version": "3.7.2"
  }
 },
 "nbformat": 4,
 "nbformat_minor": 4
}
