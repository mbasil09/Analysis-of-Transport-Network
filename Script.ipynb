{
 "cells": [
  {
   "cell_type": "code",
   "execution_count": 1,
   "metadata": {},
   "outputs": [],
   "source": [
    "#imports\n",
    "import math\n",
    "import random\n",
    "import pandas as pd\n",
    "import numpy as np\n",
    "import os\n",
    "import networkx as nx\n",
    "import matplotlib.pyplot as plt"
   ]
  },
  {
   "cell_type": "markdown",
   "metadata": {},
   "source": [
    "## Data importing and preprocessing"
   ]
  },
  {
   "cell_type": "code",
   "execution_count": 2,
   "metadata": {},
   "outputs": [],
   "source": [
    "# listing the Excels Files\n",
    "\n",
    "excel_list1 = os.listdir(\"Raw_Data\")\n",
    "excel_list = []\n",
    "for i in excel_list1:\n",
    "    if(i.endswith(\".csv\")):\n",
    "        excel_list.append(i)   \n",
    "excel_list.sort()"
   ]
  },
  {
   "cell_type": "markdown",
   "metadata": {},
   "source": [
    "## Network Creation"
   ]
  },
  {
   "cell_type": "code",
   "execution_count": 11,
   "metadata": {},
   "outputs": [
    {
     "name": "stdout",
     "output_type": "stream",
     "text": [
      "Raw_Data/1505.csv\n",
      "Raw_Data/1506.csv\n",
      "Raw_Data/1507.csv\n",
      "Raw_Data/1508.csv\n",
      "Raw_Data/1509.csv\n",
      "Raw_Data/1510.csv\n",
      "Raw_Data/1511.csv\n",
      "Raw_Data/1512.csv\n",
      "Raw_Data/1601.csv\n",
      "Raw_Data/1602.csv\n",
      "Raw_Data/1603.csv\n",
      "Raw_Data/1604.csv\n",
      "Raw_Data/1605.csv\n",
      "Raw_Data/1606.csv\n",
      "Raw_Data/1607.csv\n",
      "Raw_Data/1608.csv\n",
      "Raw_Data/1609.csv\n",
      "Raw_Data/1610.csv\n",
      "Raw_Data/1611.csv\n",
      "Raw_Data/1612.csv\n",
      "Raw_Data/1701.csv\n",
      "Raw_Data/1702.csv\n",
      "Raw_Data/1703.csv\n",
      "Raw_Data/1704.csv\n",
      "Raw_Data/1705.csv\n",
      "Raw_Data/1706.csv\n",
      "Raw_Data/1707.csv\n",
      "Raw_Data/1708.csv\n",
      "Raw_Data/1709.csv\n",
      "Raw_Data/1710.csv\n",
      "Raw_Data/1711.csv\n",
      "Raw_Data/1712.csv\n",
      "Raw_Data/1801.csv\n",
      "Raw_Data/1802.csv\n",
      "Raw_Data/1803.csv\n",
      "Raw_Data/1804.csv\n",
      "Raw_Data/1805.csv\n",
      "Raw_Data/1806.csv\n",
      "Raw_Data/1807.csv\n",
      "Raw_Data/1808.csv\n",
      "Raw_Data/1809.csv\n",
      "Raw_Data/1810.csv\n",
      "Raw_Data/1811.csv\n",
      "Raw_Data/1812.csv\n",
      "Raw_Data/1901.csv\n",
      "Raw_Data/1902.csv\n",
      "Raw_Data/1903.csv\n",
      "Raw_Data/1904.csv\n",
      "Raw_Data/1905.csv\n",
      "Raw_Data/1906.csv\n",
      "Raw_Data/1907.csv\n",
      "Raw_Data/1908.csv\n",
      "Raw_Data/1909.csv\n",
      "Raw_Data/1910.csv\n",
      "Raw_Data/1911.csv\n",
      "Raw_Data/1912.csv\n",
      "Raw_Data/2001.csv\n",
      "Raw_Data/2002.csv\n",
      "Raw_Data/2003.csv\n",
      "Raw_Data/2004.csv\n",
      "Raw_Data/2005.csv\n",
      "Raw_Data/2006.csv\n",
      "Raw_Data/2007.csv\n",
      "Raw_Data/2008.csv\n",
      "Raw_Data/2009.csv\n",
      "Raw_Data/2010.csv\n"
     ]
    }
   ],
   "source": [
    "# Creating networks and stroing them\n",
    "\n",
    "graphs = []\n",
    "passengers = []   # records number of total passengers(month wise)\n",
    "for i in excel_list:\n",
    "    path = \"Raw_Data/\"+i\n",
    "    excel = pd.read_csv(path ,header=0, index_col=0, usecols = [0,1,2,3,4] ,names=[\"SNo\",\"city1\",\"city2\",\"to\",\"from\"] )\n",
    "    passengers.append(sum(excel[\"to\"]) + sum(excel[\"from\"]))\n",
    "    G = nx.DiGraph()\n",
    "    print(path)\n",
    "    for i in range(1,len(excel)+1):\n",
    "        weight1 = excel[\"to\"][i]\n",
    "        weight2 = excel[\"from\"][i]\n",
    "        G.add_edge(excel[\"city1\"][i],excel[\"city2\"][i],weight=weight1)\n",
    "        G.add_edge(excel[\"city2\"][i],excel[\"city1\"][i],weight=weight2)\n",
    "    graphs.append(G)"
   ]
  },
  {
   "cell_type": "markdown",
   "metadata": {},
   "source": [
    "## Network Visualization"
   ]
  },
  {
   "cell_type": "code",
   "execution_count": 4,
   "metadata": {},
   "outputs": [
    {
     "name": "stdout",
     "output_type": "stream",
     "text": [
      "['AGATTI ISLAND', 'KOCHI', 'AHMEDABAD', 'BENGALURU', 'BHOPAL', 'CHENNAI', 'COIMBATORE', 'DELHI', 'DIBRUGARH', 'GOA', 'GUWAHATI', 'HYDERABAD', 'IMPHAL', 'INDORE', 'JAIPUR', 'KOLKATA', 'LUCKNOW', 'MUMBAI', 'NAGPUR', 'PUNE', 'AIZAWL', 'AMRITSAR', 'SRINAGAR', 'BAGDOGRA', 'BELGAUM', 'JABALPUR', 'AGARTALA', 'CHANDIGARH', 'CUDDAPAH', 'DEHRA DUN', 'HUBLI', 'JODHPUR', 'JORHAT', 'KOZHIKODE', 'MADURAI', 'MANGALORE', 'PATNA', 'PUDUCHERRY', 'RAIPUR', 'RAJAHMUNDRY', 'RAJKOT', 'RANCHI', 'TRIVANDRUM', 'VARANASI', 'VIJAYAWADA', 'VISAKHAPATNAM', 'BHAVNAGAR', 'BHUBANESWAR', 'PORT BLAIR', 'BHUJ', 'TIRUCHIRAPALLY', 'TUTICORIN', 'ALLAHABAD', 'AURANGABAD', 'DHARAMSALA', 'DIMAPUR', 'GAYA', 'GWALIOR', 'JAMMU', 'KHAJURAHO', 'KULLU', 'LEH', 'PANTNAGAR', 'SURAT', 'TIRUPATI', 'UDAIPUR', 'DIU', 'PORBANDAR', 'LILABARI', 'SILCHAR', 'DURGAPUR', 'SHILLONG', 'JAMNAGAR', 'TEZPUR', 'VADODARA']\n"
     ]
    }
   ],
   "source": [
    "print(graphs[1].nodes())"
   ]
  },
  {
   "cell_type": "code",
   "execution_count": 5,
   "metadata": {},
   "outputs": [
    {
     "data": {
      "text/plain": [
       "[<matplotlib.lines.Line2D at 0x7fa5faa64f40>]"
      ]
     },
     "execution_count": 5,
     "metadata": {},
     "output_type": "execute_result"
    },
    {
     "data": {
      "image/png": "[encoded data removed]",
      "text/plain": [
       "<Figure size 432x288 with 1 Axes>"
      ]
     },
     "metadata": {
      "needs_background": "light"
     },
     "output_type": "display_data"
    }
   ],
   "source": [
    "nodes = []\n",
    "for i in range(len(graphs)):\n",
    "    nodes.append(len(graphs[i].nodes()))\n",
    "plt.plot(nodes)\n",
    "#plt.show()"
   ]
  },
  {
   "cell_type": "code",
   "execution_count": 12,
   "metadata": {},
   "outputs": [
    {
     "name": "stdout",
     "output_type": "stream",
     "text": [
      "[7097141.000000199, 6568843.000000199, 6747792, 6735367, 6637323, 7008489, 7289547, 7674872, 7620879, 7443543, 7835402, 7896940, 8623381, 7933791, 8475447, 8349518, 8198645, 8638148, 8941496, 9516243, 9548612, 8615715, 9007696, 9100687, 10140073, 9536983, 9533226, 9663380, 9549437, 10418436, 10453411, 11206075, 11448112, 10720207, 11544833, 11475498, 11818634, 11288337, 11658023, 11319216, 11363706, 11805382, 11606526, 12649810, 12469075, 11321549, 11557816, 10967168, 12151749, 11989365, 11863940, 11756732, 11488069, 12280250, 12910135, 12980408, 12747591, 12331165, 7735665, 0, 278417, 1976228, 2101122, 2824787, 3938688, 5266910]\n"
     ]
    }
   ],
   "source": [
    "print(passengers)"
   ]
  },
  {
   "cell_type": "code",
   "execution_count": 13,
   "metadata": {},
   "outputs": [
    {
     "data": {
      "text/plain": [
       "[<matplotlib.lines.Line2D at 0x7fa5f89690d0>]"
      ]
     },
     "execution_count": 13,
     "metadata": {},
     "output_type": "execute_result"
    },
    {
     "data": {
      "image/png": "[encoded data removed]",
      "text/plain": [
       "<Figure size 432x288 with 1 Axes>"
      ]
     },
     "metadata": {
      "needs_background": "light"
     },
     "output_type": "display_data"
    }
   ],
   "source": [
    "plt.plot(passengers)"
   ]
  },
  {
   "cell_type": "code",
   "execution_count": null,
   "metadata": {},
   "outputs": [],
   "source": []
  }
 ],
 "metadata": {
  "kernelspec": {
   "display_name": "Python 3",
   "language": "python",
   "name": "python3"
  },
  "language_info": {
   "codemirror_mode": {
    "name": "ipython",
    "version": 3
   },
   "file_extension": ".py",
   "mimetype": "text/x-python",
   "name": "python",
   "nbconvert_exporter": "python",
   "pygments_lexer": "ipython3",
   "version": "3.8.5"
  }
 },
 "nbformat": 4,
 "nbformat_minor": 4
}
