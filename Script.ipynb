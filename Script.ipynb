{
 "cells": [
  {
   "cell_type": "code",
   "execution_count": 40,
   "metadata": {},
   "outputs": [],
   "source": [
    "#imports\n",
    "import math\n",
    "import random\n",
    "import pandas as pd\n",
    "import numpy as np\n",
    "import os\n",
    "import networkx as nx\n",
    "import matplotlib.pyplot as plt"
   ]
  },
  {
   "cell_type": "markdown",
   "metadata": {},
   "source": [
    "## Data importing and preprocessing"
   ]
  },
  {
   "cell_type": "code",
   "execution_count": 41,
   "metadata": {},
   "outputs": [],
   "source": [
    "# listing the Excels Files\n",
    "\n",
    "excel_list1 = os.listdir(\"Raw_Data\")\n",
    "excel_list = []\n",
    "for i in excel_list1:\n",
    "    if(i.endswith(\".csv\")):\n",
    "        excel_list.append(i)      "
   ]
  },
  {
   "cell_type": "markdown",
   "metadata": {},
   "source": [
    "## Network Creation"
   ]
  },
  {
   "cell_type": "code",
   "execution_count": 42,
   "metadata": {},
   "outputs": [
    {
     "name": "stdout",
     "output_type": "stream",
     "text": [
      "Raw_Data/0116.csv\n",
      "Raw_Data/0117.csv\n",
      "Raw_Data/0118.csv\n",
      "Raw_Data/0119.csv\n",
      "Raw_Data/0120.csv\n",
      "Raw_Data/0216.csv\n",
      "Raw_Data/0217.csv\n",
      "Raw_Data/0218.csv\n",
      "Raw_Data/0219.csv\n",
      "Raw_Data/0220.csv\n",
      "Raw_Data/0316.csv\n",
      "Raw_Data/0317.csv\n",
      "Raw_Data/0318.csv\n",
      "Raw_Data/0319.csv\n",
      "Raw_Data/0320.csv\n",
      "Raw_Data/0416.csv\n",
      "Raw_Data/0417.csv\n",
      "Raw_Data/0418.csv\n",
      "Raw_Data/0419.csv\n",
      "Raw_Data/0420.csv\n",
      "Raw_Data/0515.csv\n",
      "Raw_Data/0516.csv\n",
      "Raw_Data/0517.csv\n",
      "Raw_Data/0518.csv\n",
      "Raw_Data/0519.csv\n",
      "Raw_Data/0520.csv\n",
      "Raw_Data/0615.csv\n",
      "Raw_Data/0616.csv\n",
      "Raw_Data/0617.csv\n",
      "Raw_Data/0618.csv\n",
      "Raw_Data/0619.csv\n",
      "Raw_Data/0620.csv\n",
      "Raw_Data/0715.csv\n",
      "Raw_Data/0716.csv\n",
      "Raw_Data/0717.csv\n",
      "Raw_Data/0718.csv\n",
      "Raw_Data/0719.csv\n",
      "Raw_Data/0720.csv\n",
      "Raw_Data/0815.csv\n",
      "Raw_Data/0816.csv\n",
      "Raw_Data/0817.csv\n",
      "Raw_Data/0818.csv\n",
      "Raw_Data/0819.csv\n",
      "Raw_Data/0820.csv\n",
      "Raw_Data/0915.csv\n",
      "Raw_Data/0916.csv\n",
      "Raw_Data/0917.csv\n",
      "Raw_Data/0918.csv\n",
      "Raw_Data/0919.csv\n",
      "Raw_Data/0920.csv\n",
      "Raw_Data/1015.csv\n",
      "Raw_Data/1016.csv\n",
      "Raw_Data/1017.csv\n",
      "Raw_Data/1018.csv\n",
      "Raw_Data/1019.csv\n",
      "Raw_Data/1020.csv\n",
      "Raw_Data/1115.csv\n",
      "Raw_Data/1116.csv\n",
      "Raw_Data/1117.csv\n",
      "Raw_Data/1118.csv\n",
      "Raw_Data/1119.csv\n",
      "Raw_Data/1215.csv\n",
      "Raw_Data/1216.csv\n",
      "Raw_Data/1217.csv\n",
      "Raw_Data/1218.csv\n",
      "Raw_Data/1219.csv\n"
     ]
    }
   ],
   "source": [
    "# Creating networks and stroing them\n",
    "\n",
    "graphs = []\n",
    "for i in excel_list:\n",
    "    path = \"Raw_Data/\"+i\n",
    "    if(i==\"0815.csv\"):\n",
    "        excel = pd.read_csv(path ,header=0, usecols = [0,1,2,3] ,names=[\"city1\",\"city2\",\"to\",\"from\"] )\n",
    "        G = nx.DiGraph()\n",
    "        print(path)\n",
    "        for i in range(1,len(excel)):\n",
    "            weight1 = excel[\"to\"][i]\n",
    "            weight2 = excel[\"from\"][i]\n",
    "            G.add_edge(excel[\"city1\"][i],excel[\"city2\"][i],weight=weight1)\n",
    "            G.add_edge(excel[\"city2\"][i],excel[\"city1\"][i],weight=weight2)\n",
    "        graphs.append(G)\n",
    "    else:\n",
    "        excel = pd.read_csv(path ,header=0, index_col=0, usecols = [0,1,2,3,4] ,names=[\"SNo\",\"city1\",\"city2\",\"to\",\"from\"] )\n",
    "        G = nx.DiGraph()\n",
    "        print(path)\n",
    "        for i in range(1,len(excel)+1):\n",
    "            weight1 = excel[\"to\"][i]\n",
    "            weight2 = excel[\"from\"][i]\n",
    "            G.add_edge(excel[\"city1\"][i],excel[\"city2\"][i],weight=weight1)\n",
    "            G.add_edge(excel[\"city2\"][i],excel[\"city1\"][i],weight=weight2)\n",
    "        graphs.append(G)"
   ]
  },
  {
   "cell_type": "markdown",
   "metadata": {},
   "source": [
    "## Network Visualization"
   ]
  },
  {
   "cell_type": "code",
   "execution_count": 43,
   "metadata": {},
   "outputs": [
    {
     "name": "stdout",
     "output_type": "stream",
     "text": [
      "['AGARTALA', 'CHENNAI', 'AGATTI ISLAND', 'KOCHI', 'AGRA', 'DELHI', 'KHAJURAHO', 'VARANASI', 'AHMEDABAD', 'BENGALURU', 'COIMBATORE', 'GOA', 'GUWAHATI', 'HYDERABAD', 'JAIPUR', 'KOLKATA', 'LUCKNOW', 'MUMBAI', 'NAGPUR', 'PUNE', 'VISAKHAPATNAM', 'AIZAWL', 'IMPHAL', 'AMRITSAR', 'BAGDOGRA', 'BELGAUM', 'JABALPUR', 'CHANDIGARH', 'DEHRA DUN', 'HUBLI', 'INDORE', 'JODHPUR', 'JORHAT', 'KOZHIKODE', 'MADURAI', 'MANGALORE', 'PATNA', 'PORT BLAIR', 'RAIPUR', 'RAJAHMUNDRY', 'RAJKOT', 'RANCHI', 'SRINAGAR', 'TRIVANDRUM', 'VIJAYAWADA', 'BHATINDA', 'BHAVNAGAR', 'BHOPAL', 'BHUBANESWAR', 'BHUJ', 'LEH', 'TIRUCHIRAPALLY', 'TUTICORIN', 'TIRUPATI', 'ALLAHABAD', 'AURANGABAD', 'DHARAMSALA', 'DIBRUGARH', 'DIMAPUR', 'GAYA', 'JAMMU', 'KANPUR', 'KULLU', 'PANTNAGAR', 'SURAT', 'UDAIPUR', 'LILABARI', 'SILCHAR', 'TEZPUR', 'SHILLONG', 'DIU', 'GWALIOR', 'JAMNAGAR', 'VADODARA']\n"
     ]
    }
   ],
   "source": [
    "print(graphs[1].nodes())"
   ]
  },
  {
   "cell_type": "code",
   "execution_count": 50,
   "metadata": {},
   "outputs": [
    {
     "data": {
      "text/plain": [
       "(array([ 1.,  0.,  0.,  0.,  0.,  0.,  4., 26., 11., 24.]),\n",
       " array([  6. ,  15.7,  25.4,  35.1,  44.8,  54.5,  64.2,  73.9,  83.6,\n",
       "         93.3, 103. ]),\n",
       " <BarContainer object of 10 artists>)"
      ]
     },
     "execution_count": 50,
     "metadata": {},
     "output_type": "execute_result"
    },
    {
     "data": {
      "image/png": "[encoded data removed]",
      "text/plain": [
       "<Figure size 432x288 with 1 Axes>"
      ]
     },
     "metadata": {
      "needs_background": "light"
     },
     "output_type": "display_data"
    }
   ],
   "source": [
    "nodes = []\n",
    "for i in range(len(graphs)):\n",
    "    nodes.append(len(graphs[i].nodes()))\n",
    "plt.hist(nodes)"
   ]
  },
  {
   "cell_type": "code",
   "execution_count": null,
   "metadata": {},
   "outputs": [],
   "source": []
  }
 ],
 "metadata": {
  "kernelspec": {
   "display_name": "Python 3",
   "language": "python",
   "name": "python3"
  },
  "language_info": {
   "codemirror_mode": {
    "name": "ipython",
    "version": 3
   },
   "file_extension": ".py",
   "mimetype": "text/x-python",
   "name": "python",
   "nbconvert_exporter": "python",
   "pygments_lexer": "ipython3",
   "version": "3.8.2"
  }
 },
 "nbformat": 4,
 "nbformat_minor": 4
}
